{
 "cells": [
  {
   "cell_type": "markdown",
   "id": "07b3ccc7",
   "metadata": {},
   "source": [
    "# Q1 - Grid-to-Finish Delta - Data Validation and Sanity Checks"
   ]
  },
  {
   "cell_type": "code",
   "execution_count": 7,
   "id": "4b2e33ee",
   "metadata": {},
   "outputs": [
    {
     "name": "stdout",
     "output_type": "stream",
     "text": [
      "<class 'pandas.core.frame.DataFrame'>\n",
      "RangeIndex: 604 entries, 0 to 603\n",
      "Data columns (total 11 columns):\n",
      " #   Column           Non-Null Count  Dtype \n",
      "---  ------           --------------  ----- \n",
      " 0   race_id          604 non-null    int64 \n",
      " 1   gp_year          604 non-null    int64 \n",
      " 2   gp_name          604 non-null    object\n",
      " 3   gp_round         604 non-null    int64 \n",
      " 4   driver_name      604 non-null    object\n",
      " 5   constructor      604 non-null    object\n",
      " 6   constructor_ref  604 non-null    object\n",
      " 7   is_williams      604 non-null    bool  \n",
      " 8   start_position   604 non-null    int64 \n",
      " 9   final_position   604 non-null    int64 \n",
      " 10  grid_delta       604 non-null    int64 \n",
      "dtypes: bool(1), int64(6), object(4)\n",
      "memory usage: 47.9+ KB\n",
      "None\n"
     ]
    }
   ],
   "source": [
    "import pandas as pd\n",
    "\n",
    "# read csv file\n",
    "df_results = pd.read_csv('/Users/frankdong/Documents/Analytics Local/williams-racing-strategies/processed_data/grid-to-finish.csv')\n",
    "\n",
    "# dataframe basic info\n",
    "print(df_results.info())"
   ]
  },
  {
   "cell_type": "markdown",
   "id": "45bc70b2",
   "metadata": {},
   "source": [
    "## Summary of processed dataset 'grid-to-finish.csv'\n",
    "\n",
    "- Filepath: /Users/frankdong/Documents/Analytics Local/williams-racing-strategies/processed_data/grid-to-finish.csv *(potentially fix from absolute to relative path later?)*\n",
    "- Range: 604 entries, 0 to 603.\n",
    "- Columns: 11\n",
    "- Data types: int64(6), object(4), bool(1) *(objects are strings)*\n",
    "- Memory usage: 47.9+ KB "
   ]
  },
  {
   "cell_type": "markdown",
   "id": "156253a7",
   "metadata": {},
   "source": [
    "## Column data types"
   ]
  },
  {
   "cell_type": "code",
   "execution_count": 8,
   "id": "7a01717c",
   "metadata": {},
   "outputs": [
    {
     "name": "stdout",
     "output_type": "stream",
     "text": [
      "race_id             int64\n",
      "gp_year             int64\n",
      "gp_name            object\n",
      "gp_round            int64\n",
      "driver_name        object\n",
      "constructor        object\n",
      "constructor_ref    object\n",
      "is_williams          bool\n",
      "start_position      int64\n",
      "final_position      int64\n",
      "grid_delta          int64\n",
      "dtype: object\n"
     ]
    }
   ],
   "source": [
    "print(df_results.dtypes)"
   ]
  },
  {
   "cell_type": "markdown",
   "id": "1a4beb67",
   "metadata": {},
   "source": [
    "## Missing or null values"
   ]
  },
  {
   "cell_type": "code",
   "execution_count": 9,
   "id": "a9bcfacc",
   "metadata": {},
   "outputs": [
    {
     "data": {
      "text/plain": [
       "race_id            0\n",
       "gp_year            0\n",
       "gp_name            0\n",
       "gp_round           0\n",
       "driver_name        0\n",
       "constructor        0\n",
       "constructor_ref    0\n",
       "is_williams        0\n",
       "start_position     0\n",
       "final_position     0\n",
       "grid_delta         0\n",
       "dtype: int64"
      ]
     },
     "execution_count": 9,
     "metadata": {},
     "output_type": "execute_result"
    }
   ],
   "source": [
    "df_results.isnull().sum() # No nulls present across the dataset!"
   ]
  },
  {
   "cell_type": "markdown",
   "id": "18be5b1f",
   "metadata": {},
   "source": [
    "## Check for duplicates"
   ]
  },
  {
   "cell_type": "code",
   "execution_count": 10,
   "id": "8a08446b",
   "metadata": {},
   "outputs": [
    {
     "data": {
      "text/plain": [
       "0"
      ]
     },
     "execution_count": 10,
     "metadata": {},
     "output_type": "execute_result"
    }
   ],
   "source": [
    "df_results.duplicated().sum() # no duplicates found"
   ]
  },
  {
   "cell_type": "markdown",
   "id": "a4909a2e",
   "metadata": {},
   "source": [
    "## Summary statistics"
   ]
  },
  {
   "cell_type": "code",
   "execution_count": 12,
   "id": "d55a4ec5",
   "metadata": {},
   "outputs": [
    {
     "data": {
      "text/html": [
       "<div>\n",
       "<style scoped>\n",
       "    .dataframe tbody tr th:only-of-type {\n",
       "        vertical-align: middle;\n",
       "    }\n",
       "\n",
       "    .dataframe tbody tr th {\n",
       "        vertical-align: top;\n",
       "    }\n",
       "\n",
       "    .dataframe thead th {\n",
       "        text-align: right;\n",
       "    }\n",
       "</style>\n",
       "<table border=\"1\" class=\"dataframe\">\n",
       "  <thead>\n",
       "    <tr style=\"text-align: right;\">\n",
       "      <th></th>\n",
       "      <th>race_id</th>\n",
       "      <th>gp_year</th>\n",
       "      <th>gp_round</th>\n",
       "      <th>start_position</th>\n",
       "      <th>final_position</th>\n",
       "      <th>grid_delta</th>\n",
       "    </tr>\n",
       "  </thead>\n",
       "  <tbody>\n",
       "    <tr>\n",
       "      <th>count</th>\n",
       "      <td>604.000000</td>\n",
       "      <td>604.000000</td>\n",
       "      <td>604.000000</td>\n",
       "      <td>604.000000</td>\n",
       "      <td>604.000000</td>\n",
       "      <td>604.000000</td>\n",
       "    </tr>\n",
       "    <tr>\n",
       "      <th>mean</th>\n",
       "      <td>983.165563</td>\n",
       "      <td>2017.233444</td>\n",
       "      <td>10.769868</td>\n",
       "      <td>11.882450</td>\n",
       "      <td>10.736755</td>\n",
       "      <td>1.145695</td>\n",
       "    </tr>\n",
       "    <tr>\n",
       "      <th>std</th>\n",
       "      <td>28.197934</td>\n",
       "      <td>1.312072</td>\n",
       "      <td>5.885166</td>\n",
       "      <td>4.605256</td>\n",
       "      <td>3.981538</td>\n",
       "      <td>3.774133</td>\n",
       "    </tr>\n",
       "    <tr>\n",
       "      <th>min</th>\n",
       "      <td>926.000000</td>\n",
       "      <td>2015.000000</td>\n",
       "      <td>1.000000</td>\n",
       "      <td>2.000000</td>\n",
       "      <td>3.000000</td>\n",
       "      <td>-17.000000</td>\n",
       "    </tr>\n",
       "    <tr>\n",
       "      <th>25%</th>\n",
       "      <td>960.000000</td>\n",
       "      <td>2016.000000</td>\n",
       "      <td>6.000000</td>\n",
       "      <td>8.000000</td>\n",
       "      <td>7.000000</td>\n",
       "      <td>-1.000000</td>\n",
       "    </tr>\n",
       "    <tr>\n",
       "      <th>50%</th>\n",
       "      <td>984.000000</td>\n",
       "      <td>2017.000000</td>\n",
       "      <td>11.000000</td>\n",
       "      <td>11.000000</td>\n",
       "      <td>11.000000</td>\n",
       "      <td>1.000000</td>\n",
       "    </tr>\n",
       "    <tr>\n",
       "      <th>75%</th>\n",
       "      <td>1007.000000</td>\n",
       "      <td>2018.000000</td>\n",
       "      <td>16.000000</td>\n",
       "      <td>16.000000</td>\n",
       "      <td>14.000000</td>\n",
       "      <td>4.000000</td>\n",
       "    </tr>\n",
       "    <tr>\n",
       "      <th>max</th>\n",
       "      <td>1030.000000</td>\n",
       "      <td>2019.000000</td>\n",
       "      <td>21.000000</td>\n",
       "      <td>22.000000</td>\n",
       "      <td>22.000000</td>\n",
       "      <td>13.000000</td>\n",
       "    </tr>\n",
       "  </tbody>\n",
       "</table>\n",
       "</div>"
      ],
      "text/plain": [
       "           race_id      gp_year    gp_round  start_position  final_position  \\\n",
       "count   604.000000   604.000000  604.000000      604.000000      604.000000   \n",
       "mean    983.165563  2017.233444   10.769868       11.882450       10.736755   \n",
       "std      28.197934     1.312072    5.885166        4.605256        3.981538   \n",
       "min     926.000000  2015.000000    1.000000        2.000000        3.000000   \n",
       "25%     960.000000  2016.000000    6.000000        8.000000        7.000000   \n",
       "50%     984.000000  2017.000000   11.000000       11.000000       11.000000   \n",
       "75%    1007.000000  2018.000000   16.000000       16.000000       14.000000   \n",
       "max    1030.000000  2019.000000   21.000000       22.000000       22.000000   \n",
       "\n",
       "       grid_delta  \n",
       "count  604.000000  \n",
       "mean     1.145695  \n",
       "std      3.774133  \n",
       "min    -17.000000  \n",
       "25%     -1.000000  \n",
       "50%      1.000000  \n",
       "75%      4.000000  \n",
       "max     13.000000  "
      ]
     },
     "execution_count": 12,
     "metadata": {},
     "output_type": "execute_result"
    }
   ],
   "source": [
    "df_results.describe()"
   ]
  },
  {
   "cell_type": "markdown",
   "id": "52ef5172",
   "metadata": {},
   "source": [
    "From this we can roughly tell that, \n",
    "- Mean grid to finish delta is a gain of 1.14 places, median a gain of 1 place.\n",
    "- Standard deviation of delta is 3.77 places\n",
    "- The most places gained between 2015 and 2019, between Williams and its midfield competitors, is 13 places.\n",
    "- The most places lost, for the same period and teams, is 17 places. "
   ]
  },
  {
   "cell_type": "code",
   "execution_count": 13,
   "id": "d9d701cc",
   "metadata": {},
   "outputs": [],
   "source": [
    "df_results.to_csv('/Users/frankdong/Documents/Analytics Local/williams-racing-strategies/processed_data/grid-to-finish_validated.csv', index=False)"
   ]
  },
  {
   "cell_type": "markdown",
   "id": "61d4e385",
   "metadata": {},
   "source": [
    "## Validation conclusion\n",
    "- No null values found\n",
    "- Column data types are correct\n",
    "- Grid delta logic is confirmed\n",
    "- Proceed with feature engineering using the provided CSV data in 'grid-to-finish_validated.csv'"
   ]
  }
 ],
 "metadata": {
  "kernelspec": {
   "display_name": "base",
   "language": "python",
   "name": "python3"
  },
  "language_info": {
   "codemirror_mode": {
    "name": "ipython",
    "version": 3
   },
   "file_extension": ".py",
   "mimetype": "text/x-python",
   "name": "python",
   "nbconvert_exporter": "python",
   "pygments_lexer": "ipython3",
   "version": "3.12.2"
  }
 },
 "nbformat": 4,
 "nbformat_minor": 5
}
