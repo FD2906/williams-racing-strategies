{
 "cells": [
  {
   "cell_type": "markdown",
   "id": "07b3ccc7",
   "metadata": {},
   "source": [
    "# KPI 2.1 - Constructor Pit Stops - Data Validation and Sanity Checks"
   ]
  },
  {
   "cell_type": "code",
   "execution_count": 35,
   "id": "4b2e33ee",
   "metadata": {},
   "outputs": [
    {
     "name": "stdout",
     "output_type": "stream",
     "text": [
      "<class 'pandas.core.frame.DataFrame'>\n",
      "RangeIndex: 667 entries, 0 to 666\n",
      "Data columns (total 15 columns):\n",
      " #   Column           Non-Null Count  Dtype  \n",
      "---  ------           --------------  -----  \n",
      " 0   race_id          667 non-null    int64  \n",
      " 1   gp_year          667 non-null    int64  \n",
      " 2   gp_name          667 non-null    object \n",
      " 3   gp_round         667 non-null    int64  \n",
      " 4   driver_id        667 non-null    int64  \n",
      " 5   driver_name      667 non-null    object \n",
      " 6   constructor      667 non-null    object \n",
      " 7   constructor_ref  667 non-null    object \n",
      " 8   is_williams      667 non-null    bool   \n",
      " 9   stop_number      667 non-null    int64  \n",
      " 10  lap_number       667 non-null    int64  \n",
      " 11  time_of_stop     667 non-null    object \n",
      " 12  pit_duration     667 non-null    object \n",
      " 13  pit_duration_ms  667 non-null    int64  \n",
      " 14  pit_duration_s   667 non-null    float64\n",
      "dtypes: bool(1), float64(1), int64(7), object(6)\n",
      "memory usage: 73.7+ KB\n",
      "None\n"
     ]
    }
   ],
   "source": [
    "import pandas as pd\n",
    "\n",
    "# read csv file\n",
    "df_pitstops = pd.read_csv('/Users/frankdong/Documents/Analytics Local/williams-racing-strategies/processed_data/constructor-pit-stops.csv')\n",
    "\n",
    "# dataframe basic info\n",
    "print(df_pitstops.info())"
   ]
  },
  {
   "cell_type": "markdown",
   "id": "45bc70b2",
   "metadata": {},
   "source": [
    "## Summary of processed dataset 'grid-to-finish.csv'\n",
    "\n",
    "- Filepath: /Users/frankdong/Documents/Analytics Local/williams-racing-strategies/processed_data/constructor-pit-stops.csv *(potentially fix from absolute to relative path later?)*\n",
    "- Range: 667 entries, 0 to 666.\n",
    "- Columns: 15\n",
    "- Data types: float64(1), int64(7), object(6), bool(1) *(objects are strings)*\n",
    "- Memory usage: 73.7+ KB"
   ]
  },
  {
   "cell_type": "markdown",
   "id": "156253a7",
   "metadata": {},
   "source": [
    "## Column data types"
   ]
  },
  {
   "cell_type": "code",
   "execution_count": 23,
   "id": "7a01717c",
   "metadata": {},
   "outputs": [
    {
     "name": "stdout",
     "output_type": "stream",
     "text": [
      "race_id              int64\n",
      "gp_year              int64\n",
      "gp_name             object\n",
      "gp_round             int64\n",
      "driver_id            int64\n",
      "driver_name         object\n",
      "constructor         object\n",
      "constructor_ref     object\n",
      "is_williams           bool\n",
      "stop_number          int64\n",
      "lap_number           int64\n",
      "time_of_stop        object\n",
      "pit_duration        object\n",
      "pit_duration_ms      int64\n",
      "pit_duration_s     float64\n",
      "dtype: object\n"
     ]
    }
   ],
   "source": [
    "print(df_pitstops.dtypes)"
   ]
  },
  {
   "cell_type": "markdown",
   "id": "1a4beb67",
   "metadata": {},
   "source": [
    "## Missing or null values"
   ]
  },
  {
   "cell_type": "code",
   "execution_count": 24,
   "id": "a9bcfacc",
   "metadata": {},
   "outputs": [
    {
     "data": {
      "text/plain": [
       "race_id            0\n",
       "gp_year            0\n",
       "gp_name            0\n",
       "gp_round           0\n",
       "driver_id          0\n",
       "driver_name        0\n",
       "constructor        0\n",
       "constructor_ref    0\n",
       "is_williams        0\n",
       "stop_number        0\n",
       "lap_number         0\n",
       "time_of_stop       0\n",
       "pit_duration       0\n",
       "pit_duration_ms    0\n",
       "pit_duration_s     0\n",
       "dtype: int64"
      ]
     },
     "execution_count": 24,
     "metadata": {},
     "output_type": "execute_result"
    }
   ],
   "source": [
    "df_pitstops.isnull().sum() # No nulls present across the dataset!"
   ]
  },
  {
   "cell_type": "markdown",
   "id": "18be5b1f",
   "metadata": {},
   "source": [
    "## Check for duplicates"
   ]
  },
  {
   "cell_type": "code",
   "execution_count": 25,
   "id": "8a08446b",
   "metadata": {},
   "outputs": [
    {
     "data": {
      "text/plain": [
       "0"
      ]
     },
     "execution_count": 25,
     "metadata": {},
     "output_type": "execute_result"
    }
   ],
   "source": [
    "df_pitstops.duplicated().sum() # no duplicates found"
   ]
  },
  {
   "cell_type": "markdown",
   "id": "a4909a2e",
   "metadata": {},
   "source": [
    "## Summary statistics"
   ]
  },
  {
   "cell_type": "code",
   "execution_count": 26,
   "id": "d55a4ec5",
   "metadata": {},
   "outputs": [
    {
     "data": {
      "text/html": [
       "<div>\n",
       "<style scoped>\n",
       "    .dataframe tbody tr th:only-of-type {\n",
       "        vertical-align: middle;\n",
       "    }\n",
       "\n",
       "    .dataframe tbody tr th {\n",
       "        vertical-align: top;\n",
       "    }\n",
       "\n",
       "    .dataframe thead th {\n",
       "        text-align: right;\n",
       "    }\n",
       "</style>\n",
       "<table border=\"1\" class=\"dataframe\">\n",
       "  <thead>\n",
       "    <tr style=\"text-align: right;\">\n",
       "      <th></th>\n",
       "      <th>race_id</th>\n",
       "      <th>gp_year</th>\n",
       "      <th>gp_round</th>\n",
       "      <th>driver_id</th>\n",
       "      <th>stop_number</th>\n",
       "      <th>lap_number</th>\n",
       "      <th>pit_duration_ms</th>\n",
       "      <th>pit_duration_s</th>\n",
       "    </tr>\n",
       "  </thead>\n",
       "  <tbody>\n",
       "    <tr>\n",
       "      <th>count</th>\n",
       "      <td>667.000000</td>\n",
       "      <td>667.000000</td>\n",
       "      <td>667.000000</td>\n",
       "      <td>667.000000</td>\n",
       "      <td>667.000000</td>\n",
       "      <td>667.000000</td>\n",
       "      <td>6.670000e+02</td>\n",
       "      <td>667.000000</td>\n",
       "    </tr>\n",
       "    <tr>\n",
       "      <th>mean</th>\n",
       "      <td>978.916042</td>\n",
       "      <td>2016.967016</td>\n",
       "      <td>11.994003</td>\n",
       "      <td>648.922039</td>\n",
       "      <td>1.776612</td>\n",
       "      <td>24.731634</td>\n",
       "      <td>6.651767e+04</td>\n",
       "      <td>66.517667</td>\n",
       "    </tr>\n",
       "    <tr>\n",
       "      <th>std</th>\n",
       "      <td>27.891287</td>\n",
       "      <td>1.302155</td>\n",
       "      <td>4.478507</td>\n",
       "      <td>320.777242</td>\n",
       "      <td>1.013212</td>\n",
       "      <td>15.239379</td>\n",
       "      <td>2.508688e+05</td>\n",
       "      <td>250.868779</td>\n",
       "    </tr>\n",
       "    <tr>\n",
       "      <th>min</th>\n",
       "      <td>930.000000</td>\n",
       "      <td>2015.000000</td>\n",
       "      <td>5.000000</td>\n",
       "      <td>9.000000</td>\n",
       "      <td>1.000000</td>\n",
       "      <td>1.000000</td>\n",
       "      <td>1.622400e+04</td>\n",
       "      <td>16.224000</td>\n",
       "    </tr>\n",
       "    <tr>\n",
       "      <th>25%</th>\n",
       "      <td>957.000000</td>\n",
       "      <td>2016.000000</td>\n",
       "      <td>9.000000</td>\n",
       "      <td>807.000000</td>\n",
       "      <td>1.000000</td>\n",
       "      <td>13.000000</td>\n",
       "      <td>2.257600e+04</td>\n",
       "      <td>22.576000</td>\n",
       "    </tr>\n",
       "    <tr>\n",
       "      <th>50%</th>\n",
       "      <td>979.000000</td>\n",
       "      <td>2017.000000</td>\n",
       "      <td>12.000000</td>\n",
       "      <td>815.000000</td>\n",
       "      <td>1.000000</td>\n",
       "      <td>24.000000</td>\n",
       "      <td>2.419800e+04</td>\n",
       "      <td>24.198000</td>\n",
       "    </tr>\n",
       "    <tr>\n",
       "      <th>75%</th>\n",
       "      <td>1001.000000</td>\n",
       "      <td>2018.000000</td>\n",
       "      <td>15.000000</td>\n",
       "      <td>832.000000</td>\n",
       "      <td>2.000000</td>\n",
       "      <td>34.500000</td>\n",
       "      <td>2.877350e+04</td>\n",
       "      <td>28.773500</td>\n",
       "    </tr>\n",
       "    <tr>\n",
       "      <th>max</th>\n",
       "      <td>1029.000000</td>\n",
       "      <td>2019.000000</td>\n",
       "      <td>20.000000</td>\n",
       "      <td>847.000000</td>\n",
       "      <td>6.000000</td>\n",
       "      <td>72.000000</td>\n",
       "      <td>2.011147e+06</td>\n",
       "      <td>2011.147000</td>\n",
       "    </tr>\n",
       "  </tbody>\n",
       "</table>\n",
       "</div>"
      ],
      "text/plain": [
       "           race_id      gp_year    gp_round   driver_id  stop_number  \\\n",
       "count   667.000000   667.000000  667.000000  667.000000   667.000000   \n",
       "mean    978.916042  2016.967016   11.994003  648.922039     1.776612   \n",
       "std      27.891287     1.302155    4.478507  320.777242     1.013212   \n",
       "min     930.000000  2015.000000    5.000000    9.000000     1.000000   \n",
       "25%     957.000000  2016.000000    9.000000  807.000000     1.000000   \n",
       "50%     979.000000  2017.000000   12.000000  815.000000     1.000000   \n",
       "75%    1001.000000  2018.000000   15.000000  832.000000     2.000000   \n",
       "max    1029.000000  2019.000000   20.000000  847.000000     6.000000   \n",
       "\n",
       "       lap_number  pit_duration_ms  pit_duration_s  \n",
       "count  667.000000     6.670000e+02      667.000000  \n",
       "mean    24.731634     6.651767e+04       66.517667  \n",
       "std     15.239379     2.508688e+05      250.868779  \n",
       "min      1.000000     1.622400e+04       16.224000  \n",
       "25%     13.000000     2.257600e+04       22.576000  \n",
       "50%     24.000000     2.419800e+04       24.198000  \n",
       "75%     34.500000     2.877350e+04       28.773500  \n",
       "max     72.000000     2.011147e+06     2011.147000  "
      ]
     },
     "execution_count": 26,
     "metadata": {},
     "output_type": "execute_result"
    }
   ],
   "source": [
    "df_pitstops.describe()"
   ]
  },
  {
   "cell_type": "markdown",
   "id": "52ef5172",
   "metadata": {},
   "source": [
    "From this we can roughly tell that, \n",
    "- Most pit stops occur early or mid-race. Median lap no. is 24, with majority between 13 and 34.\n",
    "- Mean pit duration is 66.5 s. This is inflated by extreme outliers.\n",
    "- Median pit duration is 24.19 s, far more realistic.\n",
    "- Most pit stops fall between 22.57 s (25th percentile) and 28.77 s (75th percentile)\n",
    "\n",
    "- Max duration of 2011.147 s, or nearly 34 minutes, is clearly abnormal. Likely a retired car or incorrectly logged time. Should be flagged or removed.\n",
    "- Max pit stops number of 6 is unusual, as most cars pit only 1-3 times. Could signal a chaotic race, multiple penalties, or heavy tyre degradation race."
   ]
  },
  {
   "cell_type": "markdown",
   "id": "2dcbb3f8",
   "metadata": {},
   "source": [
    "## Drop, or flag outliers?\n",
    "\n",
    "- This dataset will be heavily used with Fast-F1, understanding safety cars and VSC periods.\n",
    "- Doing so, I'm inclined not to drop, but actually flag, extreme pit durations of over 90s or abnormal strategies of more than 3 stops.\n",
    "- This will help analyse context like safety cars, weather, chaotic race conditions (e.g. Germany 2019)."
   ]
  },
  {
   "cell_type": "code",
   "execution_count": 28,
   "id": "258a6a68",
   "metadata": {},
   "outputs": [],
   "source": [
    "df_pitstops['long_stop_flag'] = df_pitstops['pit_duration_s'] > 90 # any pit stops that last longer than 90 seconds are flagged as long stops\n",
    "df_pitstops['multi_stops_flag'] = df_pitstops['stop_number'] > 3 # any pit stops that are more than 3 are flagged as multi stops\n",
    "df_pitstops['chaotic_race_flag'] = df_pitstops['long_stop_flag'] | df_pitstops['multi_stops_flag'] # any pit stops that are either multi stops or long stops are flagged as chaotic"
   ]
  },
  {
   "cell_type": "code",
   "execution_count": 29,
   "id": "f2d4449c",
   "metadata": {},
   "outputs": [
    {
     "name": "stdout",
     "output_type": "stream",
     "text": [
      "<class 'pandas.core.frame.DataFrame'>\n",
      "RangeIndex: 667 entries, 0 to 666\n",
      "Data columns (total 18 columns):\n",
      " #   Column             Non-Null Count  Dtype  \n",
      "---  ------             --------------  -----  \n",
      " 0   race_id            667 non-null    int64  \n",
      " 1   gp_year            667 non-null    int64  \n",
      " 2   gp_name            667 non-null    object \n",
      " 3   gp_round           667 non-null    int64  \n",
      " 4   driver_id          667 non-null    int64  \n",
      " 5   driver_name        667 non-null    object \n",
      " 6   constructor        667 non-null    object \n",
      " 7   constructor_ref    667 non-null    object \n",
      " 8   is_williams        667 non-null    bool   \n",
      " 9   stop_number        667 non-null    int64  \n",
      " 10  lap_number         667 non-null    int64  \n",
      " 11  time_of_stop       667 non-null    object \n",
      " 12  pit_duration       667 non-null    object \n",
      " 13  pit_duration_ms    667 non-null    int64  \n",
      " 14  pit_duration_s     667 non-null    float64\n",
      " 15  long_stop_flag     667 non-null    bool   \n",
      " 16  multi_stops_flag   667 non-null    bool   \n",
      " 17  chaotic_race_flag  667 non-null    bool   \n",
      "dtypes: bool(4), float64(1), int64(7), object(6)\n",
      "memory usage: 75.7+ KB\n"
     ]
    }
   ],
   "source": [
    "df_pitstops.info()"
   ]
  },
  {
   "cell_type": "code",
   "execution_count": 30,
   "id": "09c740b3",
   "metadata": {},
   "outputs": [
    {
     "name": "stdout",
     "output_type": "stream",
     "text": [
      "     race_id  gp_year             gp_name  gp_round  driver_id  \\\n",
      "192      960     2016  Belgian Grand Prix        13        807   \n",
      "193      960     2016  Belgian Grand Prix        13        815   \n",
      "198      960     2016  Belgian Grand Prix        13        154   \n",
      "199      960     2016  Belgian Grand Prix        13        821   \n",
      "203      960     2016  Belgian Grand Prix        13        835   \n",
      "\n",
      "           driver_name   constructor constructor_ref  is_williams  \\\n",
      "192    Nico Hülkenberg   Force India     force_india        False   \n",
      "193       Sergio Pérez   Force India     force_india        False   \n",
      "198    Romain Grosjean  Haas F1 Team            haas        False   \n",
      "199  Esteban Gutiérrez  Haas F1 Team            haas        False   \n",
      "203      Jolyon Palmer       Renault         renault        False   \n",
      "\n",
      "     stop_number  lap_number time_of_stop pit_duration  pit_duration_ms  \\\n",
      "192            2           9     14:24:31    16:38.468           998468   \n",
      "193            2           9     14:24:36    16:40.284          1000284   \n",
      "198            2           9     14:24:42    16:39.366           999366   \n",
      "199            2           9     14:24:48    16:38.622           998622   \n",
      "203            2           9     14:24:40    16:40.234          1000234   \n",
      "\n",
      "     pit_duration_s  long_stop_flag  multi_stops_flag  chaotic_race_flag  \n",
      "192         998.468            True             False               True  \n",
      "193        1000.284            True             False               True  \n",
      "198         999.366            True             False               True  \n",
      "199         998.622            True             False               True  \n",
      "203        1000.234            True             False               True  \n"
     ]
    }
   ],
   "source": [
    "# Access observations with long pit stops\n",
    "long_stops = df_pitstops[df_pitstops['long_stop_flag']]\n",
    "print(long_stops.head())"
   ]
  },
  {
   "cell_type": "code",
   "execution_count": 31,
   "id": "857727bb",
   "metadata": {},
   "outputs": [
    {
     "name": "stdout",
     "output_type": "stream",
     "text": [
      "    race_id  gp_year               gp_name  gp_round  driver_id  \\\n",
      "36      936     2015  Hungarian Grand Prix        10        815   \n",
      "37      936     2015  Hungarian Grand Prix        10        815   \n",
      "44      936     2015  Hungarian Grand Prix        10         13   \n",
      "45      936     2015  Hungarian Grand Prix        10        822   \n",
      "46      936     2015  Hungarian Grand Prix        10        822   \n",
      "\n",
      "        driver_name  constructor constructor_ref  is_williams  stop_number  \\\n",
      "36     Sergio Pérez  Force India     force_india        False            4   \n",
      "37     Sergio Pérez  Force India     force_india        False            5   \n",
      "44     Felipe Massa     Williams        williams         True            4   \n",
      "45  Valtteri Bottas     Williams        williams         True            4   \n",
      "46  Valtteri Bottas     Williams        williams         True            5   \n",
      "\n",
      "    lap_number time_of_stop pit_duration  pit_duration_ms  pit_duration_s  \\\n",
      "36          44     15:14:51       16.958            16958          16.958   \n",
      "37          45     15:17:15       32.181            32181          32.181   \n",
      "44          45     15:17:10       16.818            16818          16.818   \n",
      "45          46     15:17:25       17.557            17557          17.557   \n",
      "46          49     15:23:48       30.031            30031          30.031   \n",
      "\n",
      "    long_stop_flag  multi_stops_flag  chaotic_race_flag  \n",
      "36           False              True               True  \n",
      "37           False              True               True  \n",
      "44           False              True               True  \n",
      "45           False              True               True  \n",
      "46           False              True               True  \n"
     ]
    }
   ],
   "source": [
    "# Access observations with multi stops\n",
    "multi_stops = df_pitstops[df_pitstops['multi_stops_flag']]\n",
    "print(multi_stops.head())"
   ]
  },
  {
   "cell_type": "code",
   "execution_count": 32,
   "id": "acbbc35a",
   "metadata": {},
   "outputs": [
    {
     "name": "stdout",
     "output_type": "stream",
     "text": [
      "Empty DataFrame\n",
      "Columns: [race_id, gp_year, gp_name, gp_round, driver_id, driver_name, constructor, constructor_ref, is_williams, stop_number, lap_number, time_of_stop, pit_duration, pit_duration_ms, pit_duration_s, long_stop_flag, multi_stops_flag, chaotic_race_flag]\n",
      "Index: []\n"
     ]
    }
   ],
   "source": [
    "# Access observations with long pit stops AND multi stops AND choatic race flag\n",
    "chaotic_stops = df_pitstops[df_pitstops['long_stop_flag'] & df_pitstops['multi_stops_flag'] & df_pitstops['chaotic_race_flag']]\n",
    "print(chaotic_stops.head()) # nothing to present."
   ]
  },
  {
   "cell_type": "code",
   "execution_count": 34,
   "id": "bf52b360",
   "metadata": {},
   "outputs": [],
   "source": [
    "df_pitstops.to_csv('/Users/frankdong/Documents/Analytics Local/williams-racing-strategies/processed_data/constructor-pit-stops-validated.csv', index=False)"
   ]
  },
  {
   "cell_type": "markdown",
   "id": "61d4e385",
   "metadata": {},
   "source": [
    "## Validation conclusion\n",
    "- No null values found\n",
    "- Column data types are correct\n",
    "- Long or multiple pit stops are flagged, as well as chaotic races, dependent on the two new columns.\n",
    "- Proceed with feature engineering using the provided CSV data in 'constructor_pit_stops_validated.csv'"
   ]
  }
 ],
 "metadata": {
  "kernelspec": {
   "display_name": "base",
   "language": "python",
   "name": "python3"
  },
  "language_info": {
   "codemirror_mode": {
    "name": "ipython",
    "version": 3
   },
   "file_extension": ".py",
   "mimetype": "text/x-python",
   "name": "python",
   "nbconvert_exporter": "python",
   "pygments_lexer": "ipython3",
   "version": "3.12.2"
  }
 },
 "nbformat": 4,
 "nbformat_minor": 5
}
