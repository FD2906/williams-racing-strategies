{
 "cells": [
  {
   "cell_type": "markdown",
   "id": "07b3ccc7",
   "metadata": {},
   "source": [
    "# Q4 - Driver Lap Times - Data Validation and Sanity Checks"
   ]
  },
  {
   "cell_type": "code",
   "execution_count": 2,
   "id": "4b2e33ee",
   "metadata": {},
   "outputs": [
    {
     "name": "stdout",
     "output_type": "stream",
     "text": [
      "<class 'pandas.core.frame.DataFrame'>\n",
      "RangeIndex: 15982 entries, 0 to 15981\n",
      "Data columns (total 10 columns):\n",
      " #   Column                 Non-Null Count  Dtype \n",
      "---  ------                 --------------  ----- \n",
      " 0   race_id                15982 non-null  int64 \n",
      " 1   gp_year                15982 non-null  int64 \n",
      " 2   gp_name                15982 non-null  object\n",
      " 3   gp_round               15982 non-null  int64 \n",
      " 4   driver_id              15982 non-null  int64 \n",
      " 5   driver_name            15982 non-null  object\n",
      " 6   rookie_or_experienced  15982 non-null  object\n",
      " 7   lap_number             15982 non-null  int64 \n",
      " 8   lap_time               15982 non-null  object\n",
      " 9   lap_time_ms            15982 non-null  int64 \n",
      "dtypes: int64(6), object(4)\n",
      "memory usage: 1.2+ MB\n",
      "None\n"
     ]
    }
   ],
   "source": [
    "import pandas as pd\n",
    "\n",
    "# read csv file\n",
    "df_laptimes = pd.read_csv('/Users/frankdong/Documents/Analytics Local/williams-racing-strategies/processed_data/driver-lap-times.csv')\n",
    "\n",
    "# dataframe basic info\n",
    "print(df_laptimes.info())"
   ]
  },
  {
   "cell_type": "markdown",
   "id": "45bc70b2",
   "metadata": {},
   "source": [
    "## Summary of processed dataset 'driver-lap-times.csv'\n",
    "\n",
    "- Filepath: /Users/frankdong/Documents/Analytics Local/williams-racing-strategies/processed_data/driver-lap-times.csv *(potentially fix from absolute to relative path later?)*\n",
    "- Range: 15982 entries, 0 to 15981.\n",
    "- Columns: 10\n",
    "- Data types: int64(6), object(4) *(objects are strings)*\n",
    "- Memory usage: 1.2+ MB"
   ]
  },
  {
   "cell_type": "markdown",
   "id": "156253a7",
   "metadata": {},
   "source": [
    "## Column data types"
   ]
  },
  {
   "cell_type": "code",
   "execution_count": 3,
   "id": "7a01717c",
   "metadata": {},
   "outputs": [
    {
     "name": "stdout",
     "output_type": "stream",
     "text": [
      "race_id                   int64\n",
      "gp_year                   int64\n",
      "gp_name                  object\n",
      "gp_round                  int64\n",
      "driver_id                 int64\n",
      "driver_name              object\n",
      "rookie_or_experienced    object\n",
      "lap_number                int64\n",
      "lap_time                 object\n",
      "lap_time_ms               int64\n",
      "dtype: object\n"
     ]
    }
   ],
   "source": [
    "print(df_laptimes.dtypes)"
   ]
  },
  {
   "cell_type": "markdown",
   "id": "1a4beb67",
   "metadata": {},
   "source": [
    "## Missing or null values"
   ]
  },
  {
   "cell_type": "code",
   "execution_count": 4,
   "id": "a9bcfacc",
   "metadata": {},
   "outputs": [
    {
     "data": {
      "text/plain": [
       "race_id                  0\n",
       "gp_year                  0\n",
       "gp_name                  0\n",
       "gp_round                 0\n",
       "driver_id                0\n",
       "driver_name              0\n",
       "rookie_or_experienced    0\n",
       "lap_number               0\n",
       "lap_time                 0\n",
       "lap_time_ms              0\n",
       "dtype: int64"
      ]
     },
     "execution_count": 4,
     "metadata": {},
     "output_type": "execute_result"
    }
   ],
   "source": [
    "df_laptimes.isnull().sum() # No nulls present across the dataset!"
   ]
  },
  {
   "cell_type": "markdown",
   "id": "18be5b1f",
   "metadata": {},
   "source": [
    "## Check for duplicates"
   ]
  },
  {
   "cell_type": "code",
   "execution_count": null,
   "id": "8a08446b",
   "metadata": {},
   "outputs": [
    {
     "data": {
      "text/plain": [
       "0"
      ]
     },
     "execution_count": 5,
     "metadata": {},
     "output_type": "execute_result"
    }
   ],
   "source": [
    "df_laptimes.duplicated().sum() # No duplicates found"
   ]
  },
  {
   "cell_type": "markdown",
   "id": "a4909a2e",
   "metadata": {},
   "source": [
    "## Summary statistics"
   ]
  },
  {
   "cell_type": "code",
   "execution_count": 6,
   "id": "d55a4ec5",
   "metadata": {},
   "outputs": [
    {
     "data": {
      "text/html": [
       "<div>\n",
       "<style scoped>\n",
       "    .dataframe tbody tr th:only-of-type {\n",
       "        vertical-align: middle;\n",
       "    }\n",
       "\n",
       "    .dataframe tbody tr th {\n",
       "        vertical-align: top;\n",
       "    }\n",
       "\n",
       "    .dataframe thead th {\n",
       "        text-align: right;\n",
       "    }\n",
       "</style>\n",
       "<table border=\"1\" class=\"dataframe\">\n",
       "  <thead>\n",
       "    <tr style=\"text-align: right;\">\n",
       "      <th></th>\n",
       "      <th>race_id</th>\n",
       "      <th>gp_year</th>\n",
       "      <th>gp_round</th>\n",
       "      <th>driver_id</th>\n",
       "      <th>lap_number</th>\n",
       "      <th>lap_time_ms</th>\n",
       "    </tr>\n",
       "  </thead>\n",
       "  <tbody>\n",
       "    <tr>\n",
       "      <th>count</th>\n",
       "      <td>15982.000000</td>\n",
       "      <td>15982.000000</td>\n",
       "      <td>15982.000000</td>\n",
       "      <td>15982.000000</td>\n",
       "      <td>15982.000000</td>\n",
       "      <td>1.598200e+04</td>\n",
       "    </tr>\n",
       "    <tr>\n",
       "      <th>mean</th>\n",
       "      <td>986.778751</td>\n",
       "      <td>2017.407020</td>\n",
       "      <td>10.816293</td>\n",
       "      <td>604.311538</td>\n",
       "      <td>30.252159</td>\n",
       "      <td>9.599797e+04</td>\n",
       "    </tr>\n",
       "    <tr>\n",
       "      <th>std</th>\n",
       "      <td>29.735450</td>\n",
       "      <td>1.389695</td>\n",
       "      <td>5.897613</td>\n",
       "      <td>367.468889</td>\n",
       "      <td>18.162977</td>\n",
       "      <td>4.171124e+04</td>\n",
       "    </tr>\n",
       "    <tr>\n",
       "      <th>min</th>\n",
       "      <td>926.000000</td>\n",
       "      <td>2015.000000</td>\n",
       "      <td>1.000000</td>\n",
       "      <td>9.000000</td>\n",
       "      <td>1.000000</td>\n",
       "      <td>6.784700e+04</td>\n",
       "    </tr>\n",
       "    <tr>\n",
       "      <th>25%</th>\n",
       "      <td>964.000000</td>\n",
       "      <td>2016.000000</td>\n",
       "      <td>6.000000</td>\n",
       "      <td>13.000000</td>\n",
       "      <td>15.000000</td>\n",
       "      <td>8.255550e+04</td>\n",
       "    </tr>\n",
       "    <tr>\n",
       "      <th>50%</th>\n",
       "      <td>991.000000</td>\n",
       "      <td>2018.000000</td>\n",
       "      <td>11.000000</td>\n",
       "      <td>822.000000</td>\n",
       "      <td>29.000000</td>\n",
       "      <td>9.439850e+04</td>\n",
       "    </tr>\n",
       "    <tr>\n",
       "      <th>75%</th>\n",
       "      <td>1013.000000</td>\n",
       "      <td>2019.000000</td>\n",
       "      <td>16.000000</td>\n",
       "      <td>840.000000</td>\n",
       "      <td>44.000000</td>\n",
       "      <td>1.036472e+05</td>\n",
       "    </tr>\n",
       "    <tr>\n",
       "      <th>max</th>\n",
       "      <td>1030.000000</td>\n",
       "      <td>2019.000000</td>\n",
       "      <td>21.000000</td>\n",
       "      <td>847.000000</td>\n",
       "      <td>78.000000</td>\n",
       "      <td>2.118323e+06</td>\n",
       "    </tr>\n",
       "  </tbody>\n",
       "</table>\n",
       "</div>"
      ],
      "text/plain": [
       "            race_id       gp_year      gp_round     driver_id    lap_number  \\\n",
       "count  15982.000000  15982.000000  15982.000000  15982.000000  15982.000000   \n",
       "mean     986.778751   2017.407020     10.816293    604.311538     30.252159   \n",
       "std       29.735450      1.389695      5.897613    367.468889     18.162977   \n",
       "min      926.000000   2015.000000      1.000000      9.000000      1.000000   \n",
       "25%      964.000000   2016.000000      6.000000     13.000000     15.000000   \n",
       "50%      991.000000   2018.000000     11.000000    822.000000     29.000000   \n",
       "75%     1013.000000   2019.000000     16.000000    840.000000     44.000000   \n",
       "max     1030.000000   2019.000000     21.000000    847.000000     78.000000   \n",
       "\n",
       "        lap_time_ms  \n",
       "count  1.598200e+04  \n",
       "mean   9.599797e+04  \n",
       "std    4.171124e+04  \n",
       "min    6.784700e+04  \n",
       "25%    8.255550e+04  \n",
       "50%    9.439850e+04  \n",
       "75%    1.036472e+05  \n",
       "max    2.118323e+06  "
      ]
     },
     "execution_count": 6,
     "metadata": {},
     "output_type": "execute_result"
    }
   ],
   "source": [
    "df_laptimes.describe()"
   ]
  },
  {
   "cell_type": "markdown",
   "id": "52ef5172",
   "metadata": {},
   "source": [
    "From this we can roughly tell that, \n",
    "- Dataset contains 15,982 total laps recorded across all Williams drivers between 2015-2019\n",
    "- Mean lap time is ~95,998 ms (~1:35.99), aligning with standard F1 race pace, but dependent on circuit length\n",
    "- Median lap time is ~94,398 ms (~1:34.40), slightly faster than the mean, indicating a right-skewed distribution (some outlier laps much slower, possibly due to pit stops or SC/VSC).\n",
    "- Minimum lap time is ~67,847 ms (~1:07.84), likely recorded on a short circuit or during a qualifying-style push lap.\n",
    "- Maximum lap time is over 2,118,323 ms (~35 minutes!), clearly an extreme outlier, likely due to data error or unclean recording (e.g. stuck in pit, technical failure, etc.)\n",
    "- Standard deviation is ~41,711 ms (~41s), suggesting significant variability — expected given laps under normal, SC, pit stop, or mechanical issue conditions.\n",
    "\n",
    "- Laps range from 1 to 78. The 78 laps is a sign that Monaco GP is there.\n",
    "- Median lap is 29 - makes sense.\n",
    "- GP years span from 2015 to 2019, as expected.\n",
    "- Median year is 2018, suggesting a larger representation of more recent seasons."
   ]
  },
  {
   "cell_type": "code",
   "execution_count": null,
   "id": "e65e0cd8",
   "metadata": {},
   "outputs": [
    {
     "name": "stdout",
     "output_type": "stream",
     "text": [
      "<class 'pandas.core.frame.DataFrame'>\n",
      "Index: 15073 entries, 3 to 15981\n",
      "Data columns (total 10 columns):\n",
      " #   Column                 Non-Null Count  Dtype \n",
      "---  ------                 --------------  ----- \n",
      " 0   race_id                15073 non-null  int64 \n",
      " 1   gp_year                15073 non-null  int64 \n",
      " 2   gp_name                15073 non-null  object\n",
      " 3   gp_round               15073 non-null  int64 \n",
      " 4   driver_id              15073 non-null  int64 \n",
      " 5   driver_name            15073 non-null  object\n",
      " 6   rookie_or_experienced  15073 non-null  object\n",
      " 7   lap_number             15073 non-null  int64 \n",
      " 8   lap_time               15073 non-null  object\n",
      " 9   lap_time_ms            15073 non-null  int64 \n",
      "dtypes: int64(6), object(4)\n",
      "memory usage: 1.3+ MB\n",
      "None\n"
     ]
    }
   ],
   "source": [
    "# Based on maximum lap time of over 35 minutes, we need to drop any laps over 2 minutes, or 120,000 ms.\n",
    "df_laptimes = df_laptimes[df_laptimes['lap_time_ms'] <= 120000]\n",
    "\n",
    "# Re-check the dataset after dropping invalid lap times\n",
    "print(df_laptimes.info())"
   ]
  },
  {
   "cell_type": "code",
   "execution_count": 12,
   "id": "1757058f",
   "metadata": {},
   "outputs": [
    {
     "name": "stdout",
     "output_type": "stream",
     "text": [
      "Total laps before dropping invalid lap times: 15982\n",
      "Total laps after dropping invalid lap times: 15073\n",
      "Number of laps dropped due to invalid lap times: 909\n"
     ]
    }
   ],
   "source": [
    "# Check how many observations have been dropped due to invalid lap times\n",
    "print(f\"Total laps before dropping invalid lap times: {15982}\")  # Original number of laps\n",
    "print(f\"Total laps after dropping invalid lap times: {len(df_laptimes)}\")  # Number of laps after filtering\n",
    "print(f\"Number of laps dropped due to invalid lap times: {15982 - len(df_laptimes)}\")  # Calculate the number of laps dropped"
   ]
  },
  {
   "cell_type": "code",
   "execution_count": 13,
   "id": "dc649d85",
   "metadata": {},
   "outputs": [
    {
     "data": {
      "text/html": [
       "<div>\n",
       "<style scoped>\n",
       "    .dataframe tbody tr th:only-of-type {\n",
       "        vertical-align: middle;\n",
       "    }\n",
       "\n",
       "    .dataframe tbody tr th {\n",
       "        vertical-align: top;\n",
       "    }\n",
       "\n",
       "    .dataframe thead th {\n",
       "        text-align: right;\n",
       "    }\n",
       "</style>\n",
       "<table border=\"1\" class=\"dataframe\">\n",
       "  <thead>\n",
       "    <tr style=\"text-align: right;\">\n",
       "      <th></th>\n",
       "      <th>race_id</th>\n",
       "      <th>gp_year</th>\n",
       "      <th>gp_round</th>\n",
       "      <th>driver_id</th>\n",
       "      <th>lap_number</th>\n",
       "      <th>lap_time_ms</th>\n",
       "    </tr>\n",
       "  </thead>\n",
       "  <tbody>\n",
       "    <tr>\n",
       "      <th>count</th>\n",
       "      <td>15073.000000</td>\n",
       "      <td>15073.000000</td>\n",
       "      <td>15073.000000</td>\n",
       "      <td>15073.000000</td>\n",
       "      <td>15073.000000</td>\n",
       "      <td>15073.000000</td>\n",
       "    </tr>\n",
       "    <tr>\n",
       "      <th>mean</th>\n",
       "      <td>987.067074</td>\n",
       "      <td>2017.422146</td>\n",
       "      <td>10.793936</td>\n",
       "      <td>605.529556</td>\n",
       "      <td>30.913819</td>\n",
       "      <td>92293.839448</td>\n",
       "    </tr>\n",
       "    <tr>\n",
       "      <th>std</th>\n",
       "      <td>29.817560</td>\n",
       "      <td>1.391867</td>\n",
       "      <td>5.921640</td>\n",
       "      <td>366.930401</td>\n",
       "      <td>18.021379</td>\n",
       "      <td>12391.176214</td>\n",
       "    </tr>\n",
       "    <tr>\n",
       "      <th>min</th>\n",
       "      <td>926.000000</td>\n",
       "      <td>2015.000000</td>\n",
       "      <td>1.000000</td>\n",
       "      <td>9.000000</td>\n",
       "      <td>1.000000</td>\n",
       "      <td>67847.000000</td>\n",
       "    </tr>\n",
       "    <tr>\n",
       "      <th>25%</th>\n",
       "      <td>964.000000</td>\n",
       "      <td>2016.000000</td>\n",
       "      <td>6.000000</td>\n",
       "      <td>13.000000</td>\n",
       "      <td>16.000000</td>\n",
       "      <td>81949.000000</td>\n",
       "    </tr>\n",
       "    <tr>\n",
       "      <th>50%</th>\n",
       "      <td>991.000000</td>\n",
       "      <td>2018.000000</td>\n",
       "      <td>11.000000</td>\n",
       "      <td>822.000000</td>\n",
       "      <td>30.000000</td>\n",
       "      <td>92760.000000</td>\n",
       "    </tr>\n",
       "    <tr>\n",
       "      <th>75%</th>\n",
       "      <td>1014.000000</td>\n",
       "      <td>2019.000000</td>\n",
       "      <td>16.000000</td>\n",
       "      <td>840.000000</td>\n",
       "      <td>45.000000</td>\n",
       "      <td>101999.000000</td>\n",
       "    </tr>\n",
       "    <tr>\n",
       "      <th>max</th>\n",
       "      <td>1030.000000</td>\n",
       "      <td>2019.000000</td>\n",
       "      <td>21.000000</td>\n",
       "      <td>847.000000</td>\n",
       "      <td>78.000000</td>\n",
       "      <td>119983.000000</td>\n",
       "    </tr>\n",
       "  </tbody>\n",
       "</table>\n",
       "</div>"
      ],
      "text/plain": [
       "            race_id       gp_year      gp_round     driver_id    lap_number  \\\n",
       "count  15073.000000  15073.000000  15073.000000  15073.000000  15073.000000   \n",
       "mean     987.067074   2017.422146     10.793936    605.529556     30.913819   \n",
       "std       29.817560      1.391867      5.921640    366.930401     18.021379   \n",
       "min      926.000000   2015.000000      1.000000      9.000000      1.000000   \n",
       "25%      964.000000   2016.000000      6.000000     13.000000     16.000000   \n",
       "50%      991.000000   2018.000000     11.000000    822.000000     30.000000   \n",
       "75%     1014.000000   2019.000000     16.000000    840.000000     45.000000   \n",
       "max     1030.000000   2019.000000     21.000000    847.000000     78.000000   \n",
       "\n",
       "         lap_time_ms  \n",
       "count   15073.000000  \n",
       "mean    92293.839448  \n",
       "std     12391.176214  \n",
       "min     67847.000000  \n",
       "25%     81949.000000  \n",
       "50%     92760.000000  \n",
       "75%    101999.000000  \n",
       "max    119983.000000  "
      ]
     },
     "execution_count": 13,
     "metadata": {},
     "output_type": "execute_result"
    }
   ],
   "source": [
    "df_laptimes.describe()"
   ]
  },
  {
   "cell_type": "markdown",
   "id": "999f17f8",
   "metadata": {},
   "source": [
    "From updated summary statistics we can tell that:\n",
    "- New mean lap time is 92,294 ms or ~1:32.29 - aligning better with typical midfield lap times.\n",
    "- New max lap time is 119,983 ms or ~1:59.98 - just under 2 minutes, still within plausible race conditions, like a very wet Belgian GP\n",
    "- Standard deviation = 12,391 ms or ~12.4s - much more improved, considering previous value was 41s and severly skewed by outliers.\n",
    "- IQR of 81,949 - 101,999 ms, capturing normal lap time variation across different drivers and circuits."
   ]
  },
  {
   "cell_type": "code",
   "execution_count": 14,
   "id": "32d42d0c",
   "metadata": {},
   "outputs": [],
   "source": [
    "# Export the validated lap times dataframe to a new CSV file, called \"driver-lap-times-validated.csv\"\n",
    "df_laptimes.to_csv('/Users/frankdong/Documents/Analytics Local/williams-racing-strategies/processed_data/driver-lap-times-validated.csv', index=False)"
   ]
  },
  {
   "cell_type": "markdown",
   "id": "61d4e385",
   "metadata": {},
   "source": [
    "## Validation conclusion\n",
    "- No null values found\n",
    "- Column data types are correct\n",
    "- Invalid lap times over 2 minutes required around 900 observations to be dropped.\n",
    "- Proceed with feature engineering using the newly validated and exported \"driver-lap-times-validated.csv\""
   ]
  }
 ],
 "metadata": {
  "kernelspec": {
   "display_name": "base",
   "language": "python",
   "name": "python3"
  },
  "language_info": {
   "codemirror_mode": {
    "name": "ipython",
    "version": 3
   },
   "file_extension": ".py",
   "mimetype": "text/x-python",
   "name": "python",
   "nbconvert_exporter": "python",
   "pygments_lexer": "ipython3",
   "version": "3.12.2"
  }
 },
 "nbformat": 4,
 "nbformat_minor": 5
}
