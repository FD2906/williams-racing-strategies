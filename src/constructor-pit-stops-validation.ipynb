{
 "cells": [
  {
   "cell_type": "markdown",
   "id": "07b3ccc7",
   "metadata": {},
   "source": [
    "# Q2 - Constructor Pit Stops - Data Validation and Sanity Checks"
   ]
  },
  {
   "cell_type": "code",
   "execution_count": 6,
   "id": "4b2e33ee",
   "metadata": {},
   "outputs": [
    {
     "name": "stdout",
     "output_type": "stream",
     "text": [
      "<class 'pandas.core.frame.DataFrame'>\n",
      "RangeIndex: 1286 entries, 0 to 1285\n",
      "Data columns (total 15 columns):\n",
      " #   Column           Non-Null Count  Dtype  \n",
      "---  ------           --------------  -----  \n",
      " 0   race_id          1286 non-null   int64  \n",
      " 1   gp_year          1286 non-null   int64  \n",
      " 2   gp_name          1286 non-null   object \n",
      " 3   gp_round         1286 non-null   int64  \n",
      " 4   driver_id        1286 non-null   int64  \n",
      " 5   driver_name      1286 non-null   object \n",
      " 6   constructor      1286 non-null   object \n",
      " 7   constructor_ref  1286 non-null   object \n",
      " 8   is_williams      1286 non-null   bool   \n",
      " 9   stop_number      1286 non-null   int64  \n",
      " 10  lap_number       1286 non-null   int64  \n",
      " 11  time_of_stop     1286 non-null   object \n",
      " 12  pit_duration     1286 non-null   object \n",
      " 13  pit_duration_ms  1286 non-null   int64  \n",
      " 14  pit_duration_s   1286 non-null   float64\n",
      "dtypes: bool(1), float64(1), int64(7), object(6)\n",
      "memory usage: 142.0+ KB\n",
      "None\n"
     ]
    }
   ],
   "source": [
    "import pandas as pd\n",
    "\n",
    "# read csv file\n",
    "df_pitstops = pd.read_csv('/Users/frankdong/Documents/Analytics Local/williams-racing-strategies/processed_data/constructor-pit-stops.csv')\n",
    "\n",
    "# dataframe basic info\n",
    "print(df_pitstops.info())"
   ]
  },
  {
   "cell_type": "markdown",
   "id": "45bc70b2",
   "metadata": {},
   "source": [
    "## Summary of processed dataset 'grid-to-finish.csv'\n",
    "\n",
    "- Filepath: /Users/frankdong/Documents/Analytics Local/williams-racing-strategies/processed_data/constructor-pit-stops.csv *(potentially fix from absolute to relative path later?)*\n",
    "- Range: 1286 entries, 0 to 1285.\n",
    "- Columns: 15\n",
    "- Data types: float64(1), int64(7), object(6), bool(1) *(objects are strings)*\n",
    "- Memory usage: 142.0+ KB"
   ]
  },
  {
   "cell_type": "markdown",
   "id": "156253a7",
   "metadata": {},
   "source": [
    "## Column data types"
   ]
  },
  {
   "cell_type": "code",
   "execution_count": 7,
   "id": "7a01717c",
   "metadata": {},
   "outputs": [
    {
     "name": "stdout",
     "output_type": "stream",
     "text": [
      "race_id              int64\n",
      "gp_year              int64\n",
      "gp_name             object\n",
      "gp_round             int64\n",
      "driver_id            int64\n",
      "driver_name         object\n",
      "constructor         object\n",
      "constructor_ref     object\n",
      "is_williams           bool\n",
      "stop_number          int64\n",
      "lap_number           int64\n",
      "time_of_stop        object\n",
      "pit_duration        object\n",
      "pit_duration_ms      int64\n",
      "pit_duration_s     float64\n",
      "dtype: object\n"
     ]
    }
   ],
   "source": [
    "print(df_pitstops.dtypes)"
   ]
  },
  {
   "cell_type": "markdown",
   "id": "1a4beb67",
   "metadata": {},
   "source": [
    "## Missing or null values"
   ]
  },
  {
   "cell_type": "code",
   "execution_count": 8,
   "id": "a9bcfacc",
   "metadata": {},
   "outputs": [
    {
     "data": {
      "text/plain": [
       "race_id            0\n",
       "gp_year            0\n",
       "gp_name            0\n",
       "gp_round           0\n",
       "driver_id          0\n",
       "driver_name        0\n",
       "constructor        0\n",
       "constructor_ref    0\n",
       "is_williams        0\n",
       "stop_number        0\n",
       "lap_number         0\n",
       "time_of_stop       0\n",
       "pit_duration       0\n",
       "pit_duration_ms    0\n",
       "pit_duration_s     0\n",
       "dtype: int64"
      ]
     },
     "execution_count": 8,
     "metadata": {},
     "output_type": "execute_result"
    }
   ],
   "source": [
    "df_pitstops.isnull().sum() # No nulls present across the dataset!"
   ]
  },
  {
   "cell_type": "markdown",
   "id": "18be5b1f",
   "metadata": {},
   "source": [
    "## Check for duplicates"
   ]
  },
  {
   "cell_type": "code",
   "execution_count": 9,
   "id": "8a08446b",
   "metadata": {},
   "outputs": [
    {
     "data": {
      "text/plain": [
       "0"
      ]
     },
     "execution_count": 9,
     "metadata": {},
     "output_type": "execute_result"
    }
   ],
   "source": [
    "df_pitstops.duplicated().sum() # no duplicates found"
   ]
  },
  {
   "cell_type": "markdown",
   "id": "a4909a2e",
   "metadata": {},
   "source": [
    "## Summary statistics"
   ]
  },
  {
   "cell_type": "code",
   "execution_count": 10,
   "id": "d55a4ec5",
   "metadata": {},
   "outputs": [
    {
     "data": {
      "text/html": [
       "<div>\n",
       "<style scoped>\n",
       "    .dataframe tbody tr th:only-of-type {\n",
       "        vertical-align: middle;\n",
       "    }\n",
       "\n",
       "    .dataframe tbody tr th {\n",
       "        vertical-align: top;\n",
       "    }\n",
       "\n",
       "    .dataframe thead th {\n",
       "        text-align: right;\n",
       "    }\n",
       "</style>\n",
       "<table border=\"1\" class=\"dataframe\">\n",
       "  <thead>\n",
       "    <tr style=\"text-align: right;\">\n",
       "      <th></th>\n",
       "      <th>race_id</th>\n",
       "      <th>gp_year</th>\n",
       "      <th>gp_round</th>\n",
       "      <th>driver_id</th>\n",
       "      <th>stop_number</th>\n",
       "      <th>lap_number</th>\n",
       "      <th>pit_duration_ms</th>\n",
       "      <th>pit_duration_s</th>\n",
       "    </tr>\n",
       "  </thead>\n",
       "  <tbody>\n",
       "    <tr>\n",
       "      <th>count</th>\n",
       "      <td>1286.000000</td>\n",
       "      <td>1286.000000</td>\n",
       "      <td>1286.000000</td>\n",
       "      <td>1286.000000</td>\n",
       "      <td>1286.000000</td>\n",
       "      <td>1286.000000</td>\n",
       "      <td>1.286000e+03</td>\n",
       "      <td>1286.000000</td>\n",
       "    </tr>\n",
       "    <tr>\n",
       "      <th>mean</th>\n",
       "      <td>979.593313</td>\n",
       "      <td>2017.066096</td>\n",
       "      <td>10.631415</td>\n",
       "      <td>645.486781</td>\n",
       "      <td>1.721617</td>\n",
       "      <td>23.739502</td>\n",
       "      <td>5.903852e+04</td>\n",
       "      <td>59.038520</td>\n",
       "    </tr>\n",
       "    <tr>\n",
       "      <th>std</th>\n",
       "      <td>28.022674</td>\n",
       "      <td>1.309463</td>\n",
       "      <td>5.919124</td>\n",
       "      <td>321.400165</td>\n",
       "      <td>0.987998</td>\n",
       "      <td>14.687026</td>\n",
       "      <td>2.190186e+05</td>\n",
       "      <td>219.018611</td>\n",
       "    </tr>\n",
       "    <tr>\n",
       "      <th>min</th>\n",
       "      <td>926.000000</td>\n",
       "      <td>2015.000000</td>\n",
       "      <td>1.000000</td>\n",
       "      <td>9.000000</td>\n",
       "      <td>1.000000</td>\n",
       "      <td>1.000000</td>\n",
       "      <td>1.495100e+04</td>\n",
       "      <td>14.951000</td>\n",
       "    </tr>\n",
       "    <tr>\n",
       "      <th>25%</th>\n",
       "      <td>957.000000</td>\n",
       "      <td>2016.000000</td>\n",
       "      <td>5.000000</td>\n",
       "      <td>807.000000</td>\n",
       "      <td>1.000000</td>\n",
       "      <td>12.000000</td>\n",
       "      <td>2.235475e+04</td>\n",
       "      <td>22.354750</td>\n",
       "    </tr>\n",
       "    <tr>\n",
       "      <th>50%</th>\n",
       "      <td>977.500000</td>\n",
       "      <td>2017.000000</td>\n",
       "      <td>11.000000</td>\n",
       "      <td>815.000000</td>\n",
       "      <td>1.000000</td>\n",
       "      <td>23.000000</td>\n",
       "      <td>2.386300e+04</td>\n",
       "      <td>23.863000</td>\n",
       "    </tr>\n",
       "    <tr>\n",
       "      <th>75%</th>\n",
       "      <td>1003.000000</td>\n",
       "      <td>2018.000000</td>\n",
       "      <td>15.000000</td>\n",
       "      <td>832.000000</td>\n",
       "      <td>2.000000</td>\n",
       "      <td>34.000000</td>\n",
       "      <td>2.664750e+04</td>\n",
       "      <td>26.647500</td>\n",
       "    </tr>\n",
       "    <tr>\n",
       "      <th>max</th>\n",
       "      <td>1030.000000</td>\n",
       "      <td>2019.000000</td>\n",
       "      <td>21.000000</td>\n",
       "      <td>847.000000</td>\n",
       "      <td>6.000000</td>\n",
       "      <td>72.000000</td>\n",
       "      <td>2.011147e+06</td>\n",
       "      <td>2011.147000</td>\n",
       "    </tr>\n",
       "  </tbody>\n",
       "</table>\n",
       "</div>"
      ],
      "text/plain": [
       "           race_id      gp_year     gp_round    driver_id  stop_number  \\\n",
       "count  1286.000000  1286.000000  1286.000000  1286.000000  1286.000000   \n",
       "mean    979.593313  2017.066096    10.631415   645.486781     1.721617   \n",
       "std      28.022674     1.309463     5.919124   321.400165     0.987998   \n",
       "min     926.000000  2015.000000     1.000000     9.000000     1.000000   \n",
       "25%     957.000000  2016.000000     5.000000   807.000000     1.000000   \n",
       "50%     977.500000  2017.000000    11.000000   815.000000     1.000000   \n",
       "75%    1003.000000  2018.000000    15.000000   832.000000     2.000000   \n",
       "max    1030.000000  2019.000000    21.000000   847.000000     6.000000   \n",
       "\n",
       "        lap_number  pit_duration_ms  pit_duration_s  \n",
       "count  1286.000000     1.286000e+03     1286.000000  \n",
       "mean     23.739502     5.903852e+04       59.038520  \n",
       "std      14.687026     2.190186e+05      219.018611  \n",
       "min       1.000000     1.495100e+04       14.951000  \n",
       "25%      12.000000     2.235475e+04       22.354750  \n",
       "50%      23.000000     2.386300e+04       23.863000  \n",
       "75%      34.000000     2.664750e+04       26.647500  \n",
       "max      72.000000     2.011147e+06     2011.147000  "
      ]
     },
     "execution_count": 10,
     "metadata": {},
     "output_type": "execute_result"
    }
   ],
   "source": [
    "df_pitstops.describe()"
   ]
  },
  {
   "cell_type": "markdown",
   "id": "52ef5172",
   "metadata": {},
   "source": [
    "From this we can roughly tell that, \n",
    "- Most pit stops occur early or mid-race. Median lap no. is 23, with majority between 12 and 34.\n",
    "- Mean pit duration is 59.04 s. This is inflated by extreme outliers.\n",
    "- Median pit duration is 23.86 s, far more realistic.\n",
    "- Most pit stops fall between 22.35 s (25th percentile) and 26.64 s (75th percentile)\n",
    "\n",
    "- Max duration of 2011.147 s, or nearly 34 minutes, is clearly abnormal. Likely a retired car or incorrectly logged time. Should be flagged or removed.\n",
    "- Max pit stops number of 6 is unusual, as most cars pit only 1-3 times. Could signal a chaotic race, multiple penalties, or heavy tyre degradation race."
   ]
  },
  {
   "cell_type": "markdown",
   "id": "2dcbb3f8",
   "metadata": {},
   "source": [
    "## Drop, or flag outliers?\n",
    "\n",
    "- This dataset will be heavily used with Fast-F1, understanding safety cars and VSC periods.\n",
    "- Doing so, I'm inclined not to drop, but actually flag, extreme pit durations of over 90s or abnormal strategies of more than 3 stops.\n",
    "- This will help analyse context like safety cars, weather, chaotic race conditions (e.g. Germany 2019)."
   ]
  },
  {
   "cell_type": "code",
   "execution_count": 37,
   "id": "258a6a68",
   "metadata": {},
   "outputs": [],
   "source": [
    "df_pitstops['long_stop_flag'] = df_pitstops['pit_duration_s'] > 90 # any pit stops that last longer than 90 seconds are flagged as long stops\n",
    "df_pitstops['multi_stops_flag'] = df_pitstops['stop_number'] > 3 # any pit stops that are more than 3 are flagged as multi stops\n",
    "df_pitstops['chaotic_race_flag'] = df_pitstops['long_stop_flag'] | df_pitstops['multi_stops_flag'] # any pit stops that are either multi stops or long stops are flagged as chaotic"
   ]
  },
  {
   "cell_type": "code",
   "execution_count": 38,
   "id": "f2d4449c",
   "metadata": {},
   "outputs": [
    {
     "name": "stdout",
     "output_type": "stream",
     "text": [
      "<class 'pandas.core.frame.DataFrame'>\n",
      "RangeIndex: 1286 entries, 0 to 1285\n",
      "Data columns (total 18 columns):\n",
      " #   Column             Non-Null Count  Dtype  \n",
      "---  ------             --------------  -----  \n",
      " 0   race_id            1286 non-null   int64  \n",
      " 1   gp_year            1286 non-null   int64  \n",
      " 2   gp_name            1286 non-null   object \n",
      " 3   gp_round           1286 non-null   int64  \n",
      " 4   driver_id          1286 non-null   int64  \n",
      " 5   driver_name        1286 non-null   object \n",
      " 6   constructor        1286 non-null   object \n",
      " 7   constructor_ref    1286 non-null   object \n",
      " 8   is_williams        1286 non-null   bool   \n",
      " 9   stop_number        1286 non-null   int64  \n",
      " 10  lap_number         1286 non-null   int64  \n",
      " 11  time_of_stop       1286 non-null   object \n",
      " 12  pit_duration       1286 non-null   object \n",
      " 13  pit_duration_ms    1286 non-null   int64  \n",
      " 14  pit_duration_s     1286 non-null   float64\n",
      " 15  long_stop_flag     1286 non-null   bool   \n",
      " 16  multi_stops_flag   1286 non-null   bool   \n",
      " 17  chaotic_race_flag  1286 non-null   bool   \n",
      "dtypes: bool(4), float64(1), int64(7), object(6)\n",
      "memory usage: 145.8+ KB\n"
     ]
    }
   ],
   "source": [
    "df_pitstops.info()"
   ]
  },
  {
   "cell_type": "code",
   "execution_count": 39,
   "id": "09c740b3",
   "metadata": {},
   "outputs": [
    {
     "name": "stdout",
     "output_type": "stream",
     "text": [
      "     race_id  gp_year                gp_name  gp_round  driver_id  \\\n",
      "151      948     2016  Australian Grand Prix         1        807   \n",
      "152      948     2016  Australian Grand Prix         1        815   \n",
      "153      948     2016  Australian Grand Prix         1        154   \n",
      "157      948     2016  Australian Grand Prix         1        835   \n",
      "158      948     2016  Australian Grand Prix         1        825   \n",
      "\n",
      "         driver_name   constructor constructor_ref  is_williams  stop_number  \\\n",
      "151  Nico Hülkenberg   Force India     force_india        False            2   \n",
      "152     Sergio Pérez   Force India     force_india        False            2   \n",
      "153  Romain Grosjean  Haas F1 Team            haas        False            1   \n",
      "157    Jolyon Palmer       Renault         renault        False            2   \n",
      "158  Kevin Magnussen       Renault         renault        False            3   \n",
      "\n",
      "     lap_number time_of_stop pit_duration  pit_duration_ms  pit_duration_s  \\\n",
      "151          18     16:37:14    18:09.155          1089155        1089.155   \n",
      "152          18     16:37:21    18:07.311          1087311        1087.311   \n",
      "153          18     16:37:12    18:09.417          1089417        1089.417   \n",
      "157          18     16:37:19    18:08.294          1088294        1088.294   \n",
      "158          17     16:37:38    15:46.318           946318         946.318   \n",
      "\n",
      "     long_stop_flag  multi_stops_flag  chaotic_race_flag  \n",
      "151            True             False               True  \n",
      "152            True             False               True  \n",
      "153            True             False               True  \n",
      "157            True             False               True  \n",
      "158            True             False               True  \n"
     ]
    }
   ],
   "source": [
    "# Access observations with long pit stops\n",
    "long_stops = df_pitstops[df_pitstops['long_stop_flag']]\n",
    "print(long_stops.head())"
   ]
  },
  {
   "cell_type": "code",
   "execution_count": 40,
   "id": "857727bb",
   "metadata": {},
   "outputs": [
    {
     "name": "stdout",
     "output_type": "stream",
     "text": [
      "    race_id  gp_year               gp_name  gp_round  driver_id  \\\n",
      "71      936     2015  Hungarian Grand Prix        10        815   \n",
      "72      936     2015  Hungarian Grand Prix        10        815   \n",
      "79      936     2015  Hungarian Grand Prix        10         13   \n",
      "80      936     2015  Hungarian Grand Prix        10        822   \n",
      "81      936     2015  Hungarian Grand Prix        10        822   \n",
      "\n",
      "        driver_name  constructor constructor_ref  is_williams  stop_number  \\\n",
      "71     Sergio Pérez  Force India     force_india        False            4   \n",
      "72     Sergio Pérez  Force India     force_india        False            5   \n",
      "79     Felipe Massa     Williams        williams         True            4   \n",
      "80  Valtteri Bottas     Williams        williams         True            4   \n",
      "81  Valtteri Bottas     Williams        williams         True            5   \n",
      "\n",
      "    lap_number time_of_stop pit_duration  pit_duration_ms  pit_duration_s  \\\n",
      "71          44     15:14:51       16.958            16958          16.958   \n",
      "72          45     15:17:15       32.181            32181          32.181   \n",
      "79          45     15:17:10       16.818            16818          16.818   \n",
      "80          46     15:17:25       17.557            17557          17.557   \n",
      "81          49     15:23:48       30.031            30031          30.031   \n",
      "\n",
      "    long_stop_flag  multi_stops_flag  chaotic_race_flag  \n",
      "71           False              True               True  \n",
      "72           False              True               True  \n",
      "79           False              True               True  \n",
      "80           False              True               True  \n",
      "81           False              True               True  \n"
     ]
    }
   ],
   "source": [
    "# Access observations with multi stops\n",
    "multi_stops = df_pitstops[df_pitstops['multi_stops_flag']]\n",
    "print(multi_stops.head())"
   ]
  },
  {
   "cell_type": "code",
   "execution_count": 45,
   "id": "acbbc35a",
   "metadata": {},
   "outputs": [
    {
     "name": "stdout",
     "output_type": "stream",
     "text": [
      "     race_id  gp_year                gp_name  gp_round  driver_id  \\\n",
      "617      976     2017  Azerbaijan Grand Prix         8        839   \n",
      "625      976     2017  Azerbaijan Grand Prix         8        154   \n",
      "\n",
      "         driver_name   constructor constructor_ref  is_williams  stop_number  \\\n",
      "617     Esteban Ocon   Force India     force_india        False            4   \n",
      "625  Romain Grosjean  Haas F1 Team            haas        False            4   \n",
      "\n",
      "     lap_number time_of_stop pit_duration  pit_duration_ms  pit_duration_s  \\\n",
      "617          22     17:53:52    21:53.873          1313873        1313.873   \n",
      "625          22     17:53:42    21:53.665          1313665        1313.665   \n",
      "\n",
      "     long_stop_flag  multi_stops_flag  chaotic_race_flag  \n",
      "617            True              True               True  \n",
      "625            True              True               True  \n"
     ]
    }
   ],
   "source": [
    "# Access observations with long pit stops AND multi stops AND choatic race flag\n",
    "chaotic_stops = df_pitstops[df_pitstops['long_stop_flag'] & df_pitstops['multi_stops_flag'] & df_pitstops['chaotic_race_flag']]\n",
    "print(chaotic_stops.head())"
   ]
  },
  {
   "cell_type": "code",
   "execution_count": 47,
   "id": "bf52b360",
   "metadata": {},
   "outputs": [],
   "source": [
    "df_pitstops.to_csv('/Users/frankdong/Documents/Analytics Local/williams-racing-strategies/processed_data/constructor_pit_stops_validated.csv', index=False)"
   ]
  },
  {
   "cell_type": "markdown",
   "id": "61d4e385",
   "metadata": {},
   "source": [
    "## Validation conclusion\n",
    "- No null values found\n",
    "- Column data types are correct\n",
    "- Long or multiple pit stops are flagged, as well as chaotic races, dependent on the two new columns.\n",
    "- Proceed with feature engineering using the provided CSV data in 'constructor_pit_stops_validated.csv'"
   ]
  }
 ],
 "metadata": {
  "kernelspec": {
   "display_name": "base",
   "language": "python",
   "name": "python3"
  },
  "language_info": {
   "codemirror_mode": {
    "name": "ipython",
    "version": 3
   },
   "file_extension": ".py",
   "mimetype": "text/x-python",
   "name": "python",
   "nbconvert_exporter": "python",
   "pygments_lexer": "ipython3",
   "version": "3.12.2"
  }
 },
 "nbformat": 4,
 "nbformat_minor": 5
}
