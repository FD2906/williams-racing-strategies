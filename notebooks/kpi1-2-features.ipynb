{
 "cells": [
  {
   "cell_type": "markdown",
   "id": "d7ba611e",
   "metadata": {},
   "source": [
    "# KPI 1 - Grid-to-Finish Delta - Feature Engineering"
   ]
  },
  {
   "cell_type": "markdown",
   "id": "926e95f7",
   "metadata": {},
   "source": [
    "This notebook focuses on feature engineering to respond to 'Strategic Question 1' from the project's research stage. \n",
    "\n",
    "**Question 1:** \n",
    ">*Which circuits saw Williams lose the most positions from race start to finish during the 2015-2019 F1 seasons, and what track characteristics explain these losses to inform targeted setup and strategy adjustments?*\n",
    "\n",
    "**KPI 1:**\n",
    ">*Grid-to-Finish Position Delta - Average positions gained/lost from the start to end of race.*\n",
    "\n",
    "**Hypothesis 1:**\n",
    ">*Williams' grid-to-finish position delta was significantly worse at high-downforce, technical circuits between 2015-2019 compared to midfield rivals, likely due to cornering limitations in car performance that reduced overtaking and defending capabilities.*"
   ]
  },
  {
   "cell_type": "markdown",
   "id": "0be13662",
   "metadata": {},
   "source": [
    "**Steps required:**\n",
    "\n",
    "Calculate the delta between the grid position and the finish position for each driver.\n",
    "Can be scaled up to apply to constructors by aggregating the deltas of all drivers involved with a constructor.\n",
    "\n",
    "1. Retrieve driver-level delta first, found in `df_results['grid_delta']`.\n",
    "2. Aggregate the deltas to get the constructor-level delta - `df['is_williams']` = True for just Williams drivers, \n",
    "    or group by `df['constructor_name']` for all drivers in a constructor.\n",
    "3. Calculate the average delta for Williams drivers and rival constructors on all tracks.\n",
    "\n",
    "Rest of hypothesis 1: dealing with high-downforce tracks, *Monaco, Singapore and Hungoraring*, three of the selected ten circuits.\n",
    "\n",
    "4. Apply constructor-level deltas, but filter for high-downforce tracks by checking if gp_name falls into a predefined list, \n",
    "    `['Monaco Grand Prix', 'Singapore Grand Prix', 'Hungarian Grand Prix']`.\n",
    "5. Calculate the average delta for Williams and rival constructors on these tracks.\n",
    "\n",
    "Next steps, in stage 4 - hypothesis testing using `ttest_ind()` and similar methods."
   ]
  },
  {
   "cell_type": "code",
   "execution_count": 2,
   "id": "88e45987",
   "metadata": {},
   "outputs": [],
   "source": [
    "import pandas as pd\n",
    "df = pd.read_csv('/Users/frankdong/Documents/Analytics Local/williams-racing-strategies/processed_data/grid-to-finish-validated.csv') # load the data"
   ]
  },
  {
   "cell_type": "markdown",
   "id": "6d7976c3",
   "metadata": {},
   "source": [
    "## Step 1 - retrieve driver-level delta"
   ]
  },
  {
   "cell_type": "code",
   "execution_count": 3,
   "id": "9d9a0511",
   "metadata": {},
   "outputs": [
    {
     "name": "stdout",
     "output_type": "stream",
     "text": [
      "         driver_name  gp_year               gp_name  grid_delta  \\\n",
      "0     George Russell     2019  Brazilian Grand Prix           6   \n",
      "1     George Russell     2019    British Grand Prix           5   \n",
      "2     George Russell     2019    Italian Grand Prix           0   \n",
      "3     George Russell     2019     Monaco Grand Prix           4   \n",
      "4      Robert Kubica     2019    British Grand Prix           5   \n",
      "..               ...      ...                   ...         ...   \n",
      "296  Valtteri Bottas     2016    Italian Grand Prix          -1   \n",
      "297  Valtteri Bottas     2016    Belgian Grand Prix           0   \n",
      "298  Valtteri Bottas     2015    Belgian Grand Prix          -6   \n",
      "299  Valtteri Bottas     2016   Austrian Grand Prix          -2   \n",
      "300  Valtteri Bottas     2016  Hungarian Grand Prix           1   \n",
      "\n",
      "    gained_or_lost  num_places  \n",
      "0           gained           6  \n",
      "1           gained           5  \n",
      "2           gained           0  \n",
      "3           gained           4  \n",
      "4           gained           5  \n",
      "..             ...         ...  \n",
      "296           lost           1  \n",
      "297         gained           0  \n",
      "298           lost           6  \n",
      "299           lost           2  \n",
      "300         gained           1  \n",
      "\n",
      "[301 rows x 6 columns]\n"
     ]
    }
   ],
   "source": [
    "def get_driver_level_delta(df: pd.DataFrame) -> pd.DataFrame:\n",
    "    \"\"\"\n",
    "    Retrieve the grid-to-finish delta for each driver.\n",
    "    Add a column 'gained_or_lost' to indicate if the driver gained or lost positions.\n",
    "    Add a column 'num_places' to indicate placed gained/lost - this is the absolute value of the delta \n",
    "\n",
    "    Arguments:\n",
    "    df (pd.DataFrame): The dataframe containing the grid-to-finish data.\n",
    "\n",
    "    Returns:\n",
    "    pd.DataFrame: A dataframe containing the driver name, GP year, GP name, \n",
    "    grid delta, gained or lost status, and number of places.\n",
    "    \"\"\"\n",
    "    df['gained_or_lost'] = df['grid_delta'].apply(lambda x: 'lost' if x < 0 else 'gained')\n",
    "    df['num_places'] = df['grid_delta'].abs()\n",
    "\n",
    "    return df[['driver_name', 'gp_year', 'gp_name', 'grid_delta', 'gained_or_lost', 'num_places']]\n",
    "\n",
    "\n",
    "print(get_driver_level_delta(df)) # test code"
   ]
  },
  {
   "cell_type": "markdown",
   "id": "e0545f6c",
   "metadata": {},
   "source": [
    "In `grid_delta`, \n",
    "- `+` means a driver or constructor gained grid places.\n",
    "- `-` means a driver or constructor lost grid places."
   ]
  },
  {
   "cell_type": "markdown",
   "id": "a27da73e",
   "metadata": {},
   "source": [
    "## Step 2 - aggregate driver-level deltas for constructor-level delta"
   ]
  },
  {
   "cell_type": "markdown",
   "id": "171f1841",
   "metadata": {},
   "source": [
    "- Create a function witha  `constructor_ref` parameter, with default argument `williams`\n",
    "- Otherwise, argument is the constructor reference passed in."
   ]
  },
  {
   "cell_type": "code",
   "execution_count": 4,
   "id": "11f648f5",
   "metadata": {},
   "outputs": [
    {
     "name": "stdout",
     "output_type": "stream",
     "text": [
      "['williams', 'renault', 'haas', 'force_india', 'racing_point']\n"
     ]
    }
   ],
   "source": [
    "# Get all unique constructor reference names from the dataframe.\n",
    "unique_constructors = df['constructor_ref'].unique().tolist()\n",
    "print(unique_constructors)"
   ]
  },
  {
   "cell_type": "code",
   "execution_count": 5,
   "id": "3aba0d4e",
   "metadata": {},
   "outputs": [],
   "source": [
    "def get_constructor_level_delta(df: pd.DataFrame, constructor_ref: str = 'williams') -> pd.DataFrame:\n",
    "    \"\"\"\n",
    "    Group by constructor_ref, and calculate the mean of grid_delta for each constructor.\n",
    "    \n",
    "    Arguments:\n",
    "    df (pd.DataFrame): The dataframe containing the grid-to-finish data.\n",
    "    constructor_ref (str): The constructor reference name to filter by. Default is 'williams'.\n",
    "\n",
    "    Returns:\n",
    "    pd.DataFrame: A dataframe containing the average grid-to-finish delta for the specified constructor.\n",
    "    columns are 'constructor_ref', 'gp_year', 'gp_name', 'avg_grid_delta'.\n",
    "    \"\"\"\n",
    "\n",
    "    # filter the dataframe for the specified constructor\n",
    "    df_constructor = df[df['constructor_ref'] == constructor_ref]\n",
    "\n",
    "    # group by gp_year and gp_name, and calculate the mean of grid_delta\n",
    "    df_constructor_grouped = df_constructor.groupby(['gp_year', 'gp_name']).agg(\n",
    "        avg_grid_delta=('grid_delta', 'mean')\n",
    "    ).reset_index()\n",
    "\n",
    "    # add a column for the constructor reference name\n",
    "    df_constructor_grouped['constructor_ref'] = constructor_ref\n",
    "\n",
    "    # specify in session if on average, the constructor gained or lost places\n",
    "    df_constructor_grouped['gained_or_lost'] = df_constructor_grouped['avg_grid_delta'].apply(lambda x: 'lost' if x < 0 else 'gained')\n",
    "\n",
    "    # specify the number of places gained or lost\n",
    "    df_constructor_grouped['num_places'] = df_constructor_grouped['avg_grid_delta'].abs()\n",
    "\n",
    "    return df_constructor_grouped[['constructor_ref', 'gp_year', 'gp_name', 'avg_grid_delta', 'gained_or_lost', 'num_places']]"
   ]
  },
  {
   "cell_type": "code",
   "execution_count": 6,
   "id": "da6925ff",
   "metadata": {},
   "outputs": [
    {
     "name": "stdout",
     "output_type": "stream",
     "text": [
      "  constructor_ref  gp_year               gp_name  avg_grid_delta  \\\n",
      "0        williams     2015   Austrian Grand Prix             1.0   \n",
      "1        williams     2015    Belgian Grand Prix            -3.0   \n",
      "2        williams     2015  Brazilian Grand Prix             2.0   \n",
      "3        williams     2015    British Grand Prix            -1.0   \n",
      "4        williams     2015  Hungarian Grand Prix            -5.5   \n",
      "\n",
      "  gained_or_lost  num_places  \n",
      "0         gained         1.0  \n",
      "1           lost         3.0  \n",
      "2         gained         2.0  \n",
      "3           lost         1.0  \n",
      "4           lost         5.5  \n"
     ]
    }
   ],
   "source": [
    "print(get_constructor_level_delta(df).head()) # test on williams, it being the default constructor for the function"
   ]
  },
  {
   "cell_type": "code",
   "execution_count": 7,
   "id": "f170bbd7",
   "metadata": {},
   "outputs": [
    {
     "name": "stdout",
     "output_type": "stream",
     "text": [
      "Constructor: williams\n",
      "  constructor_ref  gp_year               gp_name  avg_grid_delta  \\\n",
      "0        williams     2015   Austrian Grand Prix             1.0   \n",
      "1        williams     2015    Belgian Grand Prix            -3.0   \n",
      "2        williams     2015  Brazilian Grand Prix             2.0   \n",
      "3        williams     2015    British Grand Prix            -1.0   \n",
      "4        williams     2015  Hungarian Grand Prix            -5.5   \n",
      "\n",
      "  gained_or_lost  num_places  \n",
      "0         gained         1.0  \n",
      "1           lost         3.0  \n",
      "2         gained         2.0  \n",
      "3           lost         1.0  \n",
      "4           lost         5.5  \n",
      "\n",
      "\n",
      "Constructor: renault\n",
      "  constructor_ref  gp_year               gp_name  avg_grid_delta  \\\n",
      "0         renault     2016   Austrian Grand Prix             5.0   \n",
      "1         renault     2016    Belgian Grand Prix            -2.0   \n",
      "2         renault     2016  Brazilian Grand Prix             4.0   \n",
      "3         renault     2016    British Grand Prix            -1.0   \n",
      "4         renault     2016  Hungarian Grand Prix             4.5   \n",
      "\n",
      "  gained_or_lost  num_places  \n",
      "0         gained         5.0  \n",
      "1           lost         2.0  \n",
      "2         gained         4.0  \n",
      "3           lost         1.0  \n",
      "4         gained         4.5  \n",
      "\n",
      "\n",
      "Constructor: haas\n",
      "  constructor_ref  gp_year               gp_name  avg_grid_delta  \\\n",
      "0            haas     2016   Austrian Grand Prix             3.0   \n",
      "1            haas     2016    Belgian Grand Prix             2.0   \n",
      "2            haas     2016    British Grand Prix            -2.0   \n",
      "3            haas     2016  Hungarian Grand Prix            -0.5   \n",
      "4            haas     2016    Italian Grand Prix             1.5   \n",
      "\n",
      "  gained_or_lost  num_places  \n",
      "0         gained         3.0  \n",
      "1         gained         2.0  \n",
      "2           lost         2.0  \n",
      "3           lost         0.5  \n",
      "4         gained         1.5  \n",
      "\n",
      "\n",
      "Constructor: force_india\n",
      "  constructor_ref  gp_year               gp_name  avg_grid_delta  \\\n",
      "0     force_india     2015   Austrian Grand Prix             1.5   \n",
      "1     force_india     2015    Belgian Grand Prix            -1.0   \n",
      "2     force_india     2015  Brazilian Grand Prix            -1.0   \n",
      "3     force_india     2015    British Grand Prix             2.0   \n",
      "4     force_india     2015    Italian Grand Prix             1.5   \n",
      "\n",
      "  gained_or_lost  num_places  \n",
      "0         gained         1.5  \n",
      "1           lost         1.0  \n",
      "2           lost         1.0  \n",
      "3         gained         2.0  \n",
      "4         gained         1.5  \n",
      "\n",
      "\n",
      "Constructor: racing_point\n",
      "  constructor_ref  gp_year               gp_name  avg_grid_delta  \\\n",
      "0    racing_point     2019   Austrian Grand Prix             1.0   \n",
      "1    racing_point     2019    Belgian Grand Prix             3.5   \n",
      "2    racing_point     2019  Brazilian Grand Prix             2.0   \n",
      "3    racing_point     2019    British Grand Prix             1.5   \n",
      "4    racing_point     2019  Hungarian Grand Prix             3.0   \n",
      "\n",
      "  gained_or_lost  num_places  \n",
      "0         gained         1.0  \n",
      "1         gained         3.5  \n",
      "2         gained         2.0  \n",
      "3         gained         1.5  \n",
      "4         gained         3.0  \n",
      "\n",
      "\n"
     ]
    }
   ],
   "source": [
    "# test on all constructors, previewing the head of each separate constructor DataFrame\n",
    "for constructor in unique_constructors:\n",
    "    print(f'Constructor: {constructor}')\n",
    "    print(get_constructor_level_delta(df, constructor_ref=constructor).head(5))\n",
    "    print('\\n') # add a newline for readability"
   ]
  },
  {
   "cell_type": "markdown",
   "id": "353576f0",
   "metadata": {},
   "source": [
    "## Step 3 - Calculate average delta for Williams and rivals"
   ]
  },
  {
   "cell_type": "code",
   "execution_count": 8,
   "id": "b6098490",
   "metadata": {},
   "outputs": [
    {
     "name": "stdout",
     "output_type": "stream",
     "text": [
      "  constructor_ref  avg_grid_delta_year\n",
      "0        williams             1.050000\n",
      "1         renault             1.710526\n",
      "2            haas            -0.223684\n",
      "3     force_india             1.089744\n",
      "4    racing_point             2.650000\n"
     ]
    },
    {
     "name": "stderr",
     "output_type": "stream",
     "text": [
      "/var/folders/bj/v339qbwd7zj2hlpp87q7ks_w0000gn/T/ipykernel_11143/174310507.py:28: FutureWarning: The behavior of DataFrame concatenation with empty or all-NA entries is deprecated. In a future version, this will no longer exclude empty or all-NA columns when determining the result dtypes. To retain the old behavior, exclude the relevant entries before the concat operation.\n",
      "  df_all_constructors = pd.concat(\n"
     ]
    }
   ],
   "source": [
    "def get_average_delta_all_tracks(df: pd.DataFrame) -> pd.DataFrame: \n",
    "    \"\"\"\n",
    "    Using the function get_constructor_level_delta, which calculates the average grid-to-finish delta for a constructor and returns a dataframe,\n",
    "    this function will calculate the average grid-to-finish delta for all constructors on all tracks.\n",
    "\n",
    "    We need to loop through a list of midfield constructors, and apply the get_constructor_level_delta function to each constructor.\n",
    "    Then we will extract and concatenate the results into a single dataframe.\n",
    "\n",
    "    Arguments:\n",
    "    df (pd.DataFrame): The dataframe containing the grid-to-finish data.\n",
    "\n",
    "    Returns:\n",
    "    pd.DataFrame: A dataframe containing the average grid-to-finish delta for all constructors on all tracks.\n",
    "    Columns are 'constructor_ref', 'avg_grid_delta_year'\n",
    "    (avg_grid_delta_year is the average of avg_grid_delta for each constructor across all tracks. \n",
    "    This is negative, indicating lost positions, or positive, indicating gained ones)\n",
    "    \"\"\"\n",
    "\n",
    "    # initalise a new dataframe to store the results and to return\n",
    "    df_all_constructors = pd.DataFrame(columns=['constructor_ref', 'avg_grid_delta_year'])\n",
    "\n",
    "    # get all constructor reference names from the dataframe\n",
    "    constructor_refs = df['constructor_ref'].unique().tolist()\n",
    "\n",
    "    for constructor in constructor_refs:\n",
    "        df_constructor = get_constructor_level_delta(df, constructor) # gets constructor level deltas by race\n",
    "        avg_grid_delta_year = df_constructor['avg_grid_delta'].mean() # get year-long average of avg_grid_delta for each constructor across all tracks\n",
    "        df_all_constructors = pd.concat(\n",
    "            [df_all_constructors, pd.DataFrame({'constructor_ref': [constructor], 'avg_grid_delta_year': [avg_grid_delta_year]})], ignore_index=True\n",
    "            ) # add the results to the dataframe\n",
    "        \n",
    "    return df_all_constructors\n",
    "\n",
    "\n",
    "print(get_average_delta_all_tracks(df)) # test the function"
   ]
  },
  {
   "cell_type": "markdown",
   "id": "e7194988",
   "metadata": {},
   "source": [
    "- The issue with the above function is that it averages across all five seasons between 2015-2019.\n",
    "- We need to build in a filter to the function to work by year - in the form of a parameter.\n",
    "- Stakeholders wnat to see the average delta for each constructor by year, not across all years.\n",
    "- This will help with data viz and hypothesis testing."
   ]
  },
  {
   "cell_type": "code",
   "execution_count": 9,
   "id": "30f738a6",
   "metadata": {},
   "outputs": [
    {
     "name": "stdout",
     "output_type": "stream",
     "text": [
      "Year: 2015\n",
      "  constructor_ref  year  avg_grid_delta_year\n",
      "0     force_india  2015             1.611111\n",
      "1        williams  2015            -0.850000\n",
      "\n",
      "\n",
      "Year: 2016\n",
      "  constructor_ref  year  avg_grid_delta_year\n",
      "0         renault  2016             2.722222\n",
      "1     force_india  2016             1.050000\n",
      "2            haas  2016             0.611111\n",
      "3        williams  2016             0.350000\n",
      "\n",
      "\n",
      "Year: 2017\n",
      "  constructor_ref  year  avg_grid_delta_year\n",
      "0        williams  2017                 2.50\n",
      "1         renault  2017                 1.65\n",
      "2            haas  2017                 1.15\n",
      "3     force_india  2017                 0.05\n",
      "\n",
      "\n",
      "Year: 2018\n",
      "  constructor_ref  year  avg_grid_delta_year\n",
      "0        williams  2018                  2.0\n",
      "1         renault  2018                  1.7\n",
      "2     force_india  2018                  1.7\n",
      "3            haas  2018                 -0.6\n",
      "\n",
      "\n",
      "Year: 2019\n",
      "  constructor_ref  year  avg_grid_delta_year\n",
      "0    racing_point  2019             2.650000\n",
      "1        williams  2019             1.250000\n",
      "2         renault  2019             0.777778\n",
      "3            haas  2019            -2.166667\n",
      "\n",
      "\n"
     ]
    }
   ],
   "source": [
    "def get_average_constructor_delta_by_year(df: pd.DataFrame, year: int) -> pd.DataFrame:\n",
    "    \"\"\"\n",
    "    An improved version of the above function, now providing a breakdown of average grid delta by year.\n",
    "\n",
    "    Arguments:\n",
    "    df (pd.DataFrame): The dataframe containing the grid-to-finish data.\n",
    "    year (int): The year to view average constructor deltas.\n",
    "\n",
    "    Returns:\n",
    "    pd.DataFrame: A dataframe containing the average grid-to-finish delta for all constructors on all tracks.\n",
    "    Columns are 'constructor_ref', 'year', 'avg_grid_delta_year'\n",
    "    (avg_grid_delta_year is the average of avg_grid_delta for each constructor across all tracks. \n",
    "    This is negative, indicating lost positions, or positive, indicating gained ones)\n",
    "    \"\"\"\n",
    "\n",
    "    results = [] # list to store each row's dict - passed into pd.DataFrame on function return\n",
    "\n",
    "    # get a list of constructor reference names from the main dataframe\n",
    "    constructor_refs = df['constructor_ref'].unique().tolist()\n",
    "\n",
    "    for constructor in constructor_refs:\n",
    "        df_constructor = get_constructor_level_delta(df, constructor)  # gets constructor level deltas by race\n",
    "        df_constructor_year = df_constructor[df_constructor[\"gp_year\"] == year]  # filter for race deltas of the year specified\n",
    "        avg_grid_delta_year = df_constructor_year[\"avg_grid_delta\"].mean() # get the mean delta throughout the entire year\n",
    "\n",
    "        if not pd.isna(avg_grid_delta_year): # prevent NaN rows - as at least one constructor did not exist in each given year 2015-2019\n",
    "            results.append({\n",
    "                \"constructor_ref\": constructor,\n",
    "                \"year\": year,\n",
    "                \"avg_grid_delta_year\": avg_grid_delta_year\n",
    "            })\n",
    "\n",
    "    return pd.DataFrame(results).sort_values(by = 'avg_grid_delta_year', ascending=False).reset_index(drop=True) # sort by avg delta, and reset index\n",
    "\n",
    "\n",
    "# view average constructor deltas between 2015-2019\n",
    "for year in range(2015, 2020):\n",
    "    print(f\"Year: {year}\")\n",
    "    print(get_average_constructor_delta_by_year(df, year))\n",
    "    print(\"\\n\") # new line for better legibility"
   ]
  },
  {
   "cell_type": "markdown",
   "id": "a650cafc",
   "metadata": {},
   "source": [
    "## Steps 4 & 5 - filter for high-downforce tracks "
   ]
  },
  {
   "cell_type": "code",
   "execution_count": 10,
   "id": "e6e25fa0",
   "metadata": {},
   "outputs": [
    {
     "name": "stdout",
     "output_type": "stream",
     "text": [
      "   race_id  gp_year               gp_name  gp_round     driver_name  \\\n",
      "0     1015     2019     Monaco Grand Prix         6  George Russell   \n",
      "1     1021     2019  Hungarian Grand Prix        12  George Russell   \n",
      "2     1024     2019  Singapore Grand Prix        15   Robert Kubica   \n",
      "3     1015     2019     Monaco Grand Prix         6   Robert Kubica   \n",
      "4     1021     2019  Hungarian Grand Prix        12   Robert Kubica   \n",
      "\n",
      "  constructor constructor_ref  is_williams  start_position  final_position  \\\n",
      "0    Williams        williams         True              19              15   \n",
      "1    Williams        williams         True              15              16   \n",
      "2    Williams        williams         True              19              16   \n",
      "3    Williams        williams         True              20              18   \n",
      "4    Williams        williams         True              19              19   \n",
      "\n",
      "   grid_delta gained_or_lost  num_places  \n",
      "0           4         gained           4  \n",
      "1          -1           lost           1  \n",
      "2           3         gained           3  \n",
      "3           2         gained           2  \n",
      "4           0         gained           0  \n"
     ]
    }
   ],
   "source": [
    "df_high_downforce = df[df['gp_name'].isin(['Monaco Grand Prix', 'Singapore Grand Prix', 'Hungarian Grand Prix'])].reset_index(drop=True)\n",
    "\n",
    "df_high_downforce.to_csv('/Users/frankdong/Documents/Analytics Local/williams-racing-strategies/processed_data/delta-high-downforce.csv') # for observation\n",
    "\n",
    "print(df_high_downforce.head())"
   ]
  },
  {
   "cell_type": "code",
   "execution_count": 11,
   "id": "82304f9f",
   "metadata": {},
   "outputs": [
    {
     "name": "stdout",
     "output_type": "stream",
     "text": [
      "constructor\n",
      "Williams        26\n",
      "Haas F1 Team    20\n",
      "Renault         20\n",
      "Force India     19\n",
      "Racing Point     5\n",
      "Name: grid_delta, dtype: int64\n",
      "\n",
      "\n",
      "gp_name\n",
      "Monaco Grand Prix       33\n",
      "Hungarian Grand Prix    31\n",
      "Singapore Grand Prix    26\n",
      "Name: count, dtype: int64\n"
     ]
    }
   ],
   "source": [
    "# quick sanity checks before analysis\n",
    "# 1. checking team-level row counts:\n",
    "print(df_high_downforce.groupby(\"constructor\")[\"grid_delta\"].count().sort_values(ascending=False))\n",
    "print(\"\\n\")\n",
    "\n",
    "# 2. per-circuit distribution - checking for over-representation\n",
    "print(df_high_downforce['gp_name'].value_counts())"
   ]
  },
  {
   "cell_type": "code",
   "execution_count": 12,
   "id": "fbbcbe45",
   "metadata": {},
   "outputs": [
    {
     "name": "stdout",
     "output_type": "stream",
     "text": [
      "Constructor-level grid-to-finish position delta, by year, on high-downforce & technical tracks.\n",
      "2015-2019. Monaco, Singapore, Hungarian GPs. Williams, Renault, Haas, Racing Point/Force India\n",
      "Note: 'avg_grid_delta_year'\n",
      "'+' means a constructor, on average, gained positions in-race compared to their starting position.\n",
      "'-' means a constructor typically lost positions compared to their starting position.\n",
      "\n",
      "Year: 2015\n",
      "  constructor_ref  year  avg_grid_delta_year\n",
      "0     force_india  2015             3.000000\n",
      "1        williams  2015            -1.333333\n",
      "\n",
      "\n",
      "Year: 2016\n",
      "  constructor_ref  year  avg_grid_delta_year\n",
      "0         renault  2016             4.250000\n",
      "1     force_india  2016             3.666667\n",
      "2            haas  2016             1.000000\n",
      "3        williams  2016             0.166667\n",
      "\n",
      "\n",
      "Year: 2017\n",
      "  constructor_ref  year  avg_grid_delta_year\n",
      "0        williams  2017             4.833333\n",
      "1            haas  2017             2.833333\n",
      "2     force_india  2017             2.500000\n",
      "3         renault  2017             2.166667\n",
      "\n",
      "\n",
      "Year: 2018\n",
      "  constructor_ref  year  avg_grid_delta_year\n",
      "0        williams  2018             0.833333\n",
      "1         renault  2018             0.333333\n",
      "2            haas  2018             0.333333\n",
      "3     force_india  2018            -1.833333\n",
      "\n",
      "\n",
      "Year: 2019\n",
      "  constructor_ref  year  avg_grid_delta_year\n",
      "0    racing_point  2019             2.833333\n",
      "1        williams  2019             1.833333\n",
      "2         renault  2019             0.833333\n",
      "3            haas  2019            -0.333333\n",
      "\n",
      "\n"
     ]
    }
   ],
   "source": [
    "# Focusing on the three high-downforce, technical tracks, \n",
    "# run get_average_constructor_delta_by_year function\n",
    "# on df_high_downforce\n",
    "\n",
    "print(\"Constructor-level grid-to-finish position delta, by year, on high-downforce & technical tracks.\")\n",
    "print(\"2015-2019. Monaco, Singapore, Hungarian GPs. Williams, Renault, Haas, Racing Point/Force India\")\n",
    "print(\"Note: 'avg_grid_delta_year'\")\n",
    "print(\"'+' means a constructor, on average, gained positions in-race compared to their starting position.\")\n",
    "print(\"'-' means a constructor typically lost positions compared to their starting position.\\n\")\n",
    "for year in range(2015, 2020):\n",
    "    print(f\"Year: {year}\")\n",
    "    print(get_average_constructor_delta_by_year(df_high_downforce, year))\n",
    "    print(\"\\n\") # new line for better legibility"
   ]
  },
  {
   "cell_type": "code",
   "execution_count": 13,
   "id": "3bb77d7c",
   "metadata": {},
   "outputs": [
    {
     "name": "stdout",
     "output_type": "stream",
     "text": [
      "     race_id  gp_year               gp_name  gp_round      driver_name  \\\n",
      "0       1029     2019  Brazilian Grand Prix        20   George Russell   \n",
      "1       1019     2019    British Grand Prix        10   George Russell   \n",
      "2       1023     2019    Italian Grand Prix        14   George Russell   \n",
      "3       1015     2019     Monaco Grand Prix         6   George Russell   \n",
      "4       1019     2019    British Grand Prix        10    Robert Kubica   \n",
      "..       ...      ...                   ...       ...              ...   \n",
      "296      961     2016    Italian Grand Prix        14  Valtteri Bottas   \n",
      "297      960     2016    Belgian Grand Prix        13  Valtteri Bottas   \n",
      "298      937     2015    Belgian Grand Prix        11  Valtteri Bottas   \n",
      "299      956     2016   Austrian Grand Prix         9  Valtteri Bottas   \n",
      "300      958     2016  Hungarian Grand Prix        11  Valtteri Bottas   \n",
      "\n",
      "    constructor constructor_ref  is_williams  start_position  final_position  \\\n",
      "0      Williams        williams         True              18              12   \n",
      "1      Williams        williams         True              19              14   \n",
      "2      Williams        williams         True              14              14   \n",
      "3      Williams        williams         True              19              15   \n",
      "4      Williams        williams         True              20              15   \n",
      "..          ...             ...          ...             ...             ...   \n",
      "296    Williams        williams         True               5               6   \n",
      "297    Williams        williams         True               8               8   \n",
      "298    Williams        williams         True               3               9   \n",
      "299    Williams        williams         True               7               9   \n",
      "300    Williams        williams         True              10               9   \n",
      "\n",
      "     grid_delta gained_or_lost  num_places  \n",
      "0             6         gained           6  \n",
      "1             5         gained           5  \n",
      "2             0         gained           0  \n",
      "3             4         gained           4  \n",
      "4             5         gained           5  \n",
      "..          ...            ...         ...  \n",
      "296          -1           lost           1  \n",
      "297           0         gained           0  \n",
      "298          -6           lost           6  \n",
      "299          -2           lost           2  \n",
      "300           1         gained           1  \n",
      "\n",
      "[301 rows x 13 columns]\n"
     ]
    }
   ],
   "source": [
    "# Return the full dataframe - all circuits\n",
    "\n",
    "print(df)"
   ]
  },
  {
   "cell_type": "code",
   "execution_count": 19,
   "id": "f4d1b3a3",
   "metadata": {},
   "outputs": [],
   "source": [
    "df.to_csv(\"/Users/frankdong/Documents/Analytics Local/williams-racing-strategies/processed_data/delta-all-circuits.csv\")"
   ]
  }
 ],
 "metadata": {
  "kernelspec": {
   "display_name": "base",
   "language": "python",
   "name": "python3"
  },
  "language_info": {
   "codemirror_mode": {
    "name": "ipython",
    "version": 3
   },
   "file_extension": ".py",
   "mimetype": "text/x-python",
   "name": "python",
   "nbconvert_exporter": "python",
   "pygments_lexer": "ipython3",
   "version": "3.12.2"
  }
 },
 "nbformat": 4,
 "nbformat_minor": 5
}
