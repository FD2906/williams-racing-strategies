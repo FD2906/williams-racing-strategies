{
 "cells": [
  {
   "cell_type": "markdown",
   "id": "a620a098",
   "metadata": {},
   "source": [
    "# KPI 3 - Driver Lap Times - Feature Engineering"
   ]
  },
  {
   "cell_type": "markdown",
   "id": "ae8cfa80",
   "metadata": {},
   "source": [
    "This notebook focuses on feature engineering to respond to 'Strategic Question 4' from the project's research stage. \n",
    "\n",
    "**Question 3:** \n",
    ">*How does the standard deviation of lap times for each Williams driver during a race compare to their teammate across a season, and what interventions can improve consistency?*\n",
    "\n",
    "**KPI 3:**\n",
    ">*Driver Lap Time Consistency Index - Lap time standard deviation per driver, per race.*\n",
    "\n",
    "**Hypothesis 3:**\n",
    ">*Rookie or less experienced Williams drivers had significantly higher lap time variance than their teammates during races in the 2015-2019 seasons, suggesting lower in-race consistency due to inexperience or adaptability challenges.*"
   ]
  },
  {
   "cell_type": "markdown",
   "id": "3d646ab2",
   "metadata": {},
   "source": [
    "**Steps required:**\n",
    "1. Write a general function grouping drivers by `df['rookie_or_experienced']`, and the std dev of `df['lap_time_ms']`\n",
    "2. Add a column to each converting lap_time_ms to `mm:ss:ms`\n",
    "3. Compare the two dataframes with each other.\n",
    "\n",
    "Next steps, in stage 4 - visualisation, with filters, and hypothesis testing using `ttest_ind()` and similar methods."
   ]
  },
  {
   "cell_type": "code",
   "execution_count": 1,
   "id": "68167765",
   "metadata": {},
   "outputs": [],
   "source": [
    "import pandas as pd\n",
    "\n",
    "# load data\n",
    "df = pd.read_csv('/Users/frankdong/Documents/Analytics Local/williams-racing-strategies/processed_data/driver-lap-times-validated.csv') # load the data"
   ]
  },
  {
   "cell_type": "markdown",
   "id": "d024a35b-cb96-46cb-8b47-5b311504785b",
   "metadata": {},
   "source": [
    "## Steps 1, 2, 3: All-in-one function aggregating rookie and experienced lap time data"
   ]
  },
  {
   "cell_type": "code",
   "execution_count": 2,
   "id": "52c98e0c",
   "metadata": {},
   "outputs": [],
   "source": [
    "def get_laptime_consistency(\n",
    "        df: pd.DataFrame, \n",
    "        experience_level: str = None,\n",
    "        year: int | list[int] = None, \n",
    "        gp_name: str | list[str] = None, \n",
    "        verbose: bool = True) -> pd.DataFrame:\n",
    "    \"\"\"\n",
    "    Steps:\n",
    "    1. Apply optional filters for experience level, year, and GP name.\n",
    "    2. Drop missing or invalid lap times.\n",
    "    3. Group by experience level and calculate the mean and standard deviation of lap times in milliseconds.\n",
    "    4. Count the number of laps for each experience level.\n",
    "    5. Convert mean and standard deviation lap times from milliseconds to mm:ss:ms format.\n",
    "    6. Merge results into a summary DataFrame and rename columns for clarity.\n",
    "\n",
    "    Arguments:\n",
    "    df -- DataFrame containing lap time data\n",
    "    experience_level -- 'rookie' or 'experienced' to filter by experience level (optional)\n",
    "    year -- Single year or list of years to filter (optional)\n",
    "    gp_name -- Single GP name or list of GP names to filter (optional)\n",
    "    verbose -- If True, print filtering information (default: True)\n",
    "\n",
    "    Return:\n",
    "    A DataFrame with the mean and standard deviation of lap times (in both ms and mm:ss:ms format), \n",
    "    along with lap counts for each experience level, considering optional filters.\n",
    "    \"\"\"\n",
    "\n",
    "    # 1. ---------- filter the data if parameters are provided ---------- \n",
    "    if experience_level is not None: \n",
    "        df = df[df['rookie_or_experienced'] == experience_level]\n",
    "        if verbose: \n",
    "            print(f\"Filtering data for experience level: {experience_level}\")\n",
    "    if year is not None: \n",
    "        df = df[df['gp_year'].isin([year] if isinstance(year, int) else year)]\n",
    "        if verbose: \n",
    "            print(f\"Filtering data for year(s): {year}\")\n",
    "    if gp_name is not None: \n",
    "        df = df[df['gp_name'].isin([gp_name] if isinstance(gp_name, str) else gp_name)]\n",
    "        if verbose: \n",
    "            print(f\"Filtering data for GP name(s): {gp_name}\")\n",
    "\n",
    "    # 2. ---------- drop missing or invalid times, just in case ----------\n",
    "    df = df[df['lap_time_ms'] > 0]\n",
    "\n",
    "    # ---------- 3. group and calculate statistical metrics ---------- \n",
    "    times_in_ms  = df[['rookie_or_experienced', 'lap_time_ms']] # select the relevant columns from df\n",
    "\n",
    "    # group by experience level and calculate mean and standard deviation lap time\n",
    "    grouped_by_experience = times_in_ms.groupby('rookie_or_experienced').agg(\n",
    "        mean_lap_time_ms=('lap_time_ms', 'mean'),\n",
    "        std_dev_lap_time_ms=('lap_time_ms', 'std')\n",
    "    ).reset_index()\n",
    "\n",
    "    # count number of laps for each experience level for statistical testing\n",
    "    n_laps = times_in_ms.groupby('rookie_or_experienced').size().reset_index(name='n_laps')\n",
    "\n",
    "    # merge counts in the main summary dataframe\n",
    "    grouped_by_experience = pd.merge(grouped_by_experience, n_laps, on='rookie_or_experienced')\n",
    "\n",
    "    # ---------- 4. convert ms to mm:ss:ms ----------\n",
    "    grouped_by_experience['mean_lap_time'] = grouped_by_experience.apply(\n",
    "        lambda time: f\"{int(time['mean_lap_time_ms'] // 60000):02}:{int((time['mean_lap_time_ms'] % 60000) // 1000):02}.{int(time['mean_lap_time_ms'] % 1000):03}\",\n",
    "        axis=1 \n",
    "    )\n",
    "    grouped_by_experience['std_dev_lap_time'] = grouped_by_experience.apply(\n",
    "        lambda time: f\"{int(time['std_dev_lap_time_ms'] // 60000):02}:{int((time['std_dev_lap_time_ms'] % 60000) // 1000):02}.{int(time['std_dev_lap_time_ms'] % 1000):03}\",\n",
    "        axis=1 \n",
    "    )\n",
    "\n",
    "    # ---------- 5. rename columns and return result ----------\n",
    "    grouped_by_experience = grouped_by_experience.rename(columns={ # rename columns for clarity\n",
    "        'rookie_or_experienced': 'experience_level',\n",
    "        'mean_lap_time_ms': 'mean_ms',\n",
    "        'mean_lap_time': 'mean_formatted',\n",
    "        'std_dev_lap_time_ms': 'std_dev_ms',\n",
    "        'std_dev_lap_time': 'std_dev_formatted'\n",
    "    })\n",
    "    return grouped_by_experience[['experience_level', 'mean_ms', 'mean_formatted', 'std_dev_ms', 'std_dev_formatted', 'n_laps']]"
   ]
  },
  {
   "cell_type": "markdown",
   "id": "3a04ecf9",
   "metadata": {},
   "source": [
    "## Testing:"
   ]
  },
  {
   "cell_type": "code",
   "execution_count": 3,
   "id": "5738ec97",
   "metadata": {},
   "outputs": [],
   "source": [
    "technical_circuits = ['Monaco Grand Prix', 'Hungarian Grand Prix', 'Singapore Grand Prix']\n",
    "power_circuits = ['Italian Grand Prix', 'Austrian Grand Prix']\n",
    "balanced_circuits = ['British Grand Prix', 'Belgian Grand Prix', 'Brazilian Grand Prix']"
   ]
  },
  {
   "cell_type": "code",
   "execution_count": 4,
   "id": "2a8095e6",
   "metadata": {},
   "outputs": [
    {
     "name": "stdout",
     "output_type": "stream",
     "text": [
      "Filtering data for year(s): [2017, 2018, 2019]\n",
      "Filtering data for GP name(s): ['Monaco Grand Prix', 'Hungarian Grand Prix', 'Singapore Grand Prix']\n",
      "  experience_level       mean_ms mean_formatted    std_dev_ms  \\\n",
      "0      experienced  88112.064740      01:28.112  12716.414177   \n",
      "1           rookie  89246.914962      01:29.246  12283.945506   \n",
      "\n",
      "  std_dev_formatted  n_laps  \n",
      "0         00:12.716     865  \n",
      "1         00:12.283     929  \n"
     ]
    }
   ],
   "source": [
    "# Filtering high-downforce tracks between 2017 - 2019\n",
    "\n",
    "print(get_laptime_consistency(df, \n",
    "                              year = [2017, 2018, 2019], \n",
    "                              gp_name = technical_circuits\n",
    "                              ))"
   ]
  },
  {
   "cell_type": "code",
   "execution_count": 5,
   "id": "f4035d40",
   "metadata": {},
   "outputs": [
    {
     "name": "stdout",
     "output_type": "stream",
     "text": [
      "Filtering data for year(s): [2017, 2018, 2019]\n",
      "Filtering data for GP name(s): ['Italian Grand Prix', 'Austrian Grand Prix']\n",
      "  experience_level       mean_ms mean_formatted   std_dev_ms  \\\n",
      "0      experienced  77900.437613      01:17.900  8678.220250   \n",
      "1           rookie  78093.240066      01:18.093  8943.847054   \n",
      "\n",
      "  std_dev_formatted  n_laps  \n",
      "0         00:08.678     553  \n",
      "1         00:08.943     604  \n"
     ]
    }
   ],
   "source": [
    "# Filtering low-downforce power tracks between 2017 - 2019\n",
    "\n",
    "print(get_laptime_consistency(df, \n",
    "                              year = [2017, 2018, 2019], \n",
    "                              gp_name = power_circuits\n",
    "                              )) "
   ]
  },
  {
   "cell_type": "code",
   "execution_count": 6,
   "id": "057cc77a",
   "metadata": {},
   "outputs": [
    {
     "name": "stdout",
     "output_type": "stream",
     "text": [
      "Filtering data for year(s): [2017, 2018, 2019]\n",
      "Filtering data for GP name(s): ['British Grand Prix', 'Belgian Grand Prix', 'Brazilian Grand Prix']\n",
      "  experience_level       mean_ms mean_formatted    std_dev_ms  \\\n",
      "0      experienced  90293.974967      01:30.293  14919.515835   \n",
      "1           rookie  91366.022251      01:31.366  14857.392865   \n",
      "\n",
      "  std_dev_formatted  n_laps  \n",
      "0         00:14.919     759  \n",
      "1         00:14.857     764  \n"
     ]
    }
   ],
   "source": [
    "# Filtering balanced tracks between 2017-2019:\n",
    "\n",
    "print(get_laptime_consistency(df, \n",
    "                              year = [2017, 2018, 2019],\n",
    "                              gp_name = balanced_circuits\n",
    "                              ))"
   ]
  },
  {
   "cell_type": "code",
   "execution_count": 7,
   "id": "34e0ddf4",
   "metadata": {},
   "outputs": [
    {
     "name": "stdout",
     "output_type": "stream",
     "text": [
      "  experience_level       mean_ms mean_formatted    std_dev_ms  \\\n",
      "0      experienced  89687.006121      01:29.687  13318.445767   \n",
      "1           rookie  87912.203691      01:27.912  12809.785979   \n",
      "\n",
      "  std_dev_formatted  n_laps  \n",
      "0         00:13.318    4901  \n",
      "1         00:12.809    2818  \n"
     ]
    }
   ],
   "source": [
    "# All years, all tracks\n",
    "print(get_laptime_consistency(df))"
   ]
  },
  {
   "cell_type": "markdown",
   "id": "cd789061-03f1-494f-bfc1-91e779ba4399",
   "metadata": {},
   "source": [
    "An outlier may exist in the experienced driver section, as all other filters return that experienced drivers fare better than rookies. \n",
    "\n",
    "This is a point to investigate in stage 4 - visualisation."
   ]
  },
  {
   "cell_type": "code",
   "execution_count": 8,
   "id": "d41e9df1",
   "metadata": {},
   "outputs": [
    {
     "name": "stdout",
     "output_type": "stream",
     "text": [
      "      race_id  gp_year               gp_name  gp_round  driver_id  \\\n",
      "0         930     2015    Spanish Grand Prix         5         13   \n",
      "1         930     2015    Spanish Grand Prix         5         13   \n",
      "2         930     2015    Spanish Grand Prix         5         13   \n",
      "3         930     2015    Spanish Grand Prix         5         13   \n",
      "4         930     2015    Spanish Grand Prix         5         13   \n",
      "...       ...      ...                   ...       ...        ...   \n",
      "7714     1029     2019  Brazilian Grand Prix        20        822   \n",
      "7715     1029     2019  Brazilian Grand Prix        20        822   \n",
      "7716     1029     2019  Brazilian Grand Prix        20        822   \n",
      "7717     1029     2019  Brazilian Grand Prix        20        822   \n",
      "7718     1029     2019  Brazilian Grand Prix        20        822   \n",
      "\n",
      "          driver_name rookie_or_experienced  lap_number  lap_time  lap_time_ms  \n",
      "0        Felipe Massa           experienced           1  1:41.963       101963  \n",
      "1        Felipe Massa           experienced           2  1:35.272        95272  \n",
      "2        Felipe Massa           experienced           3  1:33.305        93305  \n",
      "3        Felipe Massa           experienced           4  1:33.263        93263  \n",
      "4        Felipe Massa           experienced           5  1:33.557        93557  \n",
      "...               ...                   ...         ...       ...          ...  \n",
      "7714  Valtteri Bottas           experienced          47  1:13.600        73600  \n",
      "7715  Valtteri Bottas           experienced          48  1:13.397        73397  \n",
      "7716  Valtteri Bottas           experienced          49  1:14.178        74178  \n",
      "7717  Valtteri Bottas           experienced          50  1:14.089        74089  \n",
      "7718  Valtteri Bottas           experienced          51  1:13.369        73369  \n",
      "\n",
      "[7719 rows x 10 columns]\n"
     ]
    }
   ],
   "source": [
    "# export the CSV of the underlying df \n",
    "# for which the get_laptime_consistency function is applied to\n",
    "\n",
    "print(df)\n",
    "# df was pulled from the csv 'driver-lap-times-validated.csv'\n",
    "# use this to access data for further processing"
   ]
  },
  {
   "cell_type": "markdown",
   "id": "256bce11",
   "metadata": {},
   "source": [
    "## Convert to Standard Deviation of Lap Times"
   ]
  },
  {
   "cell_type": "markdown",
   "id": "59745177",
   "metadata": {},
   "source": [
    "To effectively test for KPI 3, which focuses on variability of lap times by driver experience level, we need to form a new dataframe. \n"
   ]
  },
  {
   "cell_type": "markdown",
   "id": "8db77627",
   "metadata": {},
   "source": [
    "This dataframe's underlying value, to test, is the standard deviation of lap times, by each driver, by each race - not individual lap times. "
   ]
  },
  {
   "cell_type": "code",
   "execution_count": 21,
   "id": "5c42fba5",
   "metadata": {},
   "outputs": [
    {
     "name": "stdout",
     "output_type": "stream",
     "text": [
      "<class 'pandas.core.frame.DataFrame'>\n",
      "RangeIndex: 139 entries, 0 to 138\n",
      "Data columns (total 6 columns):\n",
      " #   Column                 Non-Null Count  Dtype  \n",
      "---  ------                 --------------  -----  \n",
      " 0   gp_year                139 non-null    int64  \n",
      " 1   gp_name                139 non-null    object \n",
      " 2   driver_name            139 non-null    object \n",
      " 3   rookie_or_experienced  139 non-null    object \n",
      " 4   laptime_std            139 non-null    object \n",
      " 5   laptime_std_ms         139 non-null    float64\n",
      "dtypes: float64(1), int64(1), object(4)\n",
      "memory usage: 6.6+ KB\n",
      "None\n",
      "     gp_year               gp_name      driver_name rookie_or_experienced  \\\n",
      "0       2015   Austrian Grand Prix     Felipe Massa           experienced   \n",
      "1       2015   Austrian Grand Prix  Valtteri Bottas           experienced   \n",
      "2       2015    Belgian Grand Prix     Felipe Massa           experienced   \n",
      "3       2015    Belgian Grand Prix  Valtteri Bottas           experienced   \n",
      "4       2015  Brazilian Grand Prix     Felipe Massa           experienced   \n",
      "..       ...                   ...              ...                   ...   \n",
      "134     2019  Singapore Grand Prix  Valtteri Bottas           experienced   \n",
      "135     2019    Spanish Grand Prix   George Russell                rookie   \n",
      "136     2019    Spanish Grand Prix     Lance Stroll                rookie   \n",
      "137     2019    Spanish Grand Prix    Robert Kubica           experienced   \n",
      "138     2019    Spanish Grand Prix  Valtteri Bottas           experienced   \n",
      "\n",
      "    laptime_std  laptime_std_ms  \n",
      "0     00:09.102     9102.032818  \n",
      "1     00:09.005     9005.112897  \n",
      "2     00:01.252     1252.497422  \n",
      "3     00:01.077     1077.893319  \n",
      "4     00:03.736     3736.275146  \n",
      "..          ...             ...  \n",
      "134   00:02.088     2088.895756  \n",
      "135   00:07.196     7196.065789  \n",
      "136   00:03.522     3522.868511  \n",
      "137   00:05.420     5420.727432  \n",
      "138   00:02.979     2979.842026  \n",
      "\n",
      "[139 rows x 6 columns]\n"
     ]
    }
   ],
   "source": [
    "# group by four columns - gp_year, gp_name, driver_name, rookie_or_experienced\n",
    "grouped = df.groupby(['gp_year', 'gp_name', 'driver_name', 'rookie_or_experienced'])\n",
    "\n",
    "# calculate the standard deviation of lap_time_ms for each group\n",
    "laptimes_std = grouped['lap_time_ms'].std().reset_index()\n",
    "\n",
    "# cename the std_dev column for clarity\n",
    "laptimes_std = laptimes_std.rename(columns={'lap_time_ms': 'laptime_std_ms'})\n",
    "\n",
    "# create a column of standard deviation rendered as mm:ss:ms\n",
    "\n",
    "laptimes_std['laptime_std'] = laptimes_std.apply(\n",
    "        lambda time: f\"{int(time['laptime_std_ms'] // 60000):02}:{int((time['laptime_std_ms'] % 60000) // 1000):02}.{int(time['laptime_std_ms'] % 1000):03}\",\n",
    "        axis=1 \n",
    "    )\n",
    "\n",
    "# reorder columns\n",
    "laptimes_std = laptimes_std[['gp_year', 'gp_name', 'driver_name', 'rookie_or_experienced', 'laptime_std', 'laptime_std_ms']]\n",
    "\n",
    "print(laptimes_std.info())\n",
    "print(laptimes_std)"
   ]
  },
  {
   "cell_type": "code",
   "execution_count": 22,
   "id": "c2ffc387",
   "metadata": {},
   "outputs": [],
   "source": [
    "# write to a new processed_data file\n",
    "\n",
    "laptimes_std.to_csv(\"/Users/frankdong/Documents/Analytics Local/williams-racing-strategies/processed_data/laptimes_std.csv\")\n"
   ]
  }
 ],
 "metadata": {
  "kernelspec": {
   "display_name": "base",
   "language": "python",
   "name": "python3"
  },
  "language_info": {
   "codemirror_mode": {
    "name": "ipython",
    "version": 3
   },
   "file_extension": ".py",
   "mimetype": "text/x-python",
   "name": "python",
   "nbconvert_exporter": "python",
   "pygments_lexer": "ipython3",
   "version": "3.12.2"
  }
 },
 "nbformat": 4,
 "nbformat_minor": 5
}
