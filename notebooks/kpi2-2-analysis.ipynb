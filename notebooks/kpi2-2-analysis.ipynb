{
 "cells": [
  {
   "cell_type": "code",
   "execution_count": 1,
   "id": "c6cea055",
   "metadata": {},
   "outputs": [
    {
     "name": "stdout",
     "output_type": "stream",
     "text": [
      "   Unnamed: 0  year                race  sector  sector_delta  pct_slower  \\\n",
      "0           0  2018  Italian Grand Prix       1         0.251       0.934   \n",
      "1           1  2018  Italian Grand Prix       2         0.146       0.539   \n",
      "2           2  2018  Italian Grand Prix       3         0.454       1.704   \n",
      "3           3  2018   Monaco Grand Prix       1         0.110       0.581   \n",
      "4           4  2018   Monaco Grand Prix       2         0.430       1.272   \n",
      "\n",
      "   fastest_team sector_type circuit_type    zscore  \n",
      "0  Racing Point       power        power -1.079077  \n",
      "1       Renault       power        power -1.394782  \n",
      "2  Haas F1 Team       power        power -0.468713  \n",
      "3       Renault   technical    technical -1.503023  \n",
      "4   Force India   technical    technical -0.540875  \n"
     ]
    }
   ],
   "source": [
    "# load dataset used in kpi 2.1\n",
    "import pandas as pd\n",
    "\n",
    "df = pd.read_csv(\"/Users/frankdong/Documents/Analytics Local/williams-racing-strategies/processed_data/williams-deltas-by-sector-type.csv\")\n",
    "\n",
    "print(df.head())"
   ]
  },
  {
   "cell_type": "code",
   "execution_count": null,
   "id": "70494ca9",
   "metadata": {},
   "outputs": [],
   "source": []
  }
 ],
 "metadata": {
  "kernelspec": {
   "display_name": "base",
   "language": "python",
   "name": "python3"
  },
  "language_info": {
   "codemirror_mode": {
    "name": "ipython",
    "version": 3
   },
   "file_extension": ".py",
   "mimetype": "text/x-python",
   "name": "python",
   "nbconvert_exporter": "python",
   "pygments_lexer": "ipython3",
   "version": "3.12.2"
  }
 },
 "nbformat": 4,
 "nbformat_minor": 5
}
