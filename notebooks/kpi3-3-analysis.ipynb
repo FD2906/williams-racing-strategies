{
 "cells": [
  {
   "cell_type": "code",
   "execution_count": 1,
   "id": "7d0de729",
   "metadata": {},
   "outputs": [
    {
     "name": "stdout",
     "output_type": "stream",
     "text": [
      "   Unnamed: 0  race_id  gp_year             gp_name  gp_round  driver_id  \\\n",
      "0           0      930     2015  Spanish Grand Prix         5         13   \n",
      "1           1      930     2015  Spanish Grand Prix         5         13   \n",
      "2           2      930     2015  Spanish Grand Prix         5         13   \n",
      "3           3      930     2015  Spanish Grand Prix         5         13   \n",
      "4           4      930     2015  Spanish Grand Prix         5         13   \n",
      "\n",
      "    driver_name rookie_or_experienced  lap_number  lap_time  lap_time_ms  \n",
      "0  Felipe Massa           experienced           1  1:41.963       101963  \n",
      "1  Felipe Massa           experienced           2  1:35.272        95272  \n",
      "2  Felipe Massa           experienced           3  1:33.305        93305  \n",
      "3  Felipe Massa           experienced           4  1:33.263        93263  \n",
      "4  Felipe Massa           experienced           5  1:33.557        93557  \n"
     ]
    }
   ],
   "source": [
    "# load dataset used in 3.2\n",
    "import pandas as pd\n",
    "\n",
    "df = pd.read_csv(\"/Users/frankdong/Documents/Analytics Local/williams-racing-strategies/processed_data/driver-lap-times-validated.csv\")\n",
    "\n",
    "print(df.head())"
   ]
  }
 ],
 "metadata": {
  "kernelspec": {
   "display_name": "base",
   "language": "python",
   "name": "python3"
  },
  "language_info": {
   "codemirror_mode": {
    "name": "ipython",
    "version": 3
   },
   "file_extension": ".py",
   "mimetype": "text/x-python",
   "name": "python",
   "nbconvert_exporter": "python",
   "pygments_lexer": "ipython3",
   "version": "3.12.2"
  }
 },
 "nbformat": 4,
 "nbformat_minor": 5
}
