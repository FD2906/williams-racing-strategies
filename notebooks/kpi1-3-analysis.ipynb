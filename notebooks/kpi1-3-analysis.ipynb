{
 "cells": [
  {
   "cell_type": "code",
   "execution_count": 5,
   "id": "84bcfc42",
   "metadata": {},
   "outputs": [
    {
     "name": "stdout",
     "output_type": "stream",
     "text": [
      "   Unnamed: 0  race_id  gp_year               gp_name  gp_round  \\\n",
      "0           0     1029     2019  Brazilian Grand Prix        20   \n",
      "1           1     1019     2019    British Grand Prix        10   \n",
      "2           2     1023     2019    Italian Grand Prix        14   \n",
      "3           3     1015     2019     Monaco Grand Prix         6   \n",
      "4           4     1019     2019    British Grand Prix        10   \n",
      "\n",
      "      driver_name constructor constructor_ref  is_williams  start_position  \\\n",
      "0  George Russell    Williams        williams         True              18   \n",
      "1  George Russell    Williams        williams         True              19   \n",
      "2  George Russell    Williams        williams         True              14   \n",
      "3  George Russell    Williams        williams         True              19   \n",
      "4   Robert Kubica    Williams        williams         True              20   \n",
      "\n",
      "   final_position  grid_delta gained_or_lost  num_places  \n",
      "0              12           6         gained           6  \n",
      "1              14           5         gained           5  \n",
      "2              14           0         gained           0  \n",
      "3              15           4         gained           4  \n",
      "4              15           5         gained           5  \n"
     ]
    }
   ],
   "source": [
    "# load dataset used in 1.2 into 1.3 - analysis\n",
    "import pandas as pd\n",
    "\n",
    "df = pd.read_csv(\"/Users/frankdong/Documents/Analytics Local/williams-racing-strategies/processed_data/delta-all-circuits.csv\")\n",
    "\n",
    "print(df.head())"
   ]
  },
  {
   "cell_type": "code",
   "execution_count": null,
   "id": "08e3d8b8",
   "metadata": {},
   "outputs": [],
   "source": []
  }
 ],
 "metadata": {
  "kernelspec": {
   "display_name": "base",
   "language": "python",
   "name": "python3"
  },
  "language_info": {
   "codemirror_mode": {
    "name": "ipython",
    "version": 3
   },
   "file_extension": ".py",
   "mimetype": "text/x-python",
   "name": "python",
   "nbconvert_exporter": "python",
   "pygments_lexer": "ipython3",
   "version": "3.12.2"
  }
 },
 "nbformat": 4,
 "nbformat_minor": 5
}
